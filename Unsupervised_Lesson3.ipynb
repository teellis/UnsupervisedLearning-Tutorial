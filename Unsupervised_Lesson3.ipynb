{
  "nbformat": 4,
  "nbformat_minor": 0,
  "metadata": {
    "colab": {
      "name": "Unsupervised-Lesson3.ipynb",
      "provenance": [],
      "collapsed_sections": [],
      "include_colab_link": true
    },
    "kernelspec": {
      "name": "python3",
      "display_name": "Python 3"
    },
    "language_info": {
      "name": "python"
    }
  },
  "cells": [
    {
      "cell_type": "markdown",
      "metadata": {
        "id": "view-in-github",
        "colab_type": "text"
      },
      "source": [
        "<a href=\"https://colab.research.google.com/github/teellis/UnsupervisedLearning-Tutorial/blob/main/Unsupervised_Lesson3.ipynb\" target=\"_parent\"><img src=\"https://colab.research.google.com/assets/colab-badge.svg\" alt=\"Open In Colab\"/></a>"
      ]
    },
    {
      "cell_type": "markdown",
      "metadata": {
        "id": "WHQC8GFueeTo"
      },
      "source": [
        "1. use association for the best the best model for shot success\n",
        "2. algo will make a bunch of rules for our dataset. some of those will have shot made/missed. look at those\n",
        "3. "
      ]
    },
    {
      "cell_type": "markdown",
      "metadata": {
        "id": "0h6rXDjIfZAA"
      },
      "source": [
        "# Lesson 3 - NBA Dataset\n",
        "\n",
        "Now, let's look at a real-life complex dataset.\n",
        "\n",
        "We have play-by-play NBA data for the year 2019-2020, meaning each attempt to shoot is recorded individually.\n",
        "\n",
        "We want to predict how successful a shot will be, given other features, but do not know what features are best. For this, we will use an Association Model. "
      ]
    },
    {
      "cell_type": "code",
      "metadata": {
        "id": "XQXZp9Cc0pHP"
      },
      "source": [
        "import pandas as pd\n",
        "import numpy as np"
      ],
      "execution_count": 3,
      "outputs": []
    },
    {
      "cell_type": "code",
      "metadata": {
        "colab": {
          "base_uri": "https://localhost:8080/",
          "height": 1000
        },
        "id": "yoJ16S2J0GnW",
        "outputId": "3c3cbc98-0f12-403b-fba5-d8cdcfcae142"
      },
      "source": [
        "# Load the NBA dataset from GitHub.\n",
        "# dataset source: https://sports-statistics.com/sports-data/nba-basketball-datasets-csv-files/\n",
        "df_nba = pd.read_csv(\"https://raw.githubusercontent.com/teellis/UnsupervisedLearning-Tutorial/main/2019-20_pbp_data.csv\")\n",
        "df_nba.drop(df_nba.filter(regex=\"Unnamed\"),axis=1, inplace=True)\n",
        "df_nba"
      ],
      "execution_count": 4,
      "outputs": [
        {
          "output_type": "execute_result",
          "data": {
            "text/html": [
              "<div>\n",
              "<style scoped>\n",
              "    .dataframe tbody tr th:only-of-type {\n",
              "        vertical-align: middle;\n",
              "    }\n",
              "\n",
              "    .dataframe tbody tr th {\n",
              "        vertical-align: top;\n",
              "    }\n",
              "\n",
              "    .dataframe thead th {\n",
              "        text-align: right;\n",
              "    }\n",
              "</style>\n",
              "<table border=\"1\" class=\"dataframe\">\n",
              "  <thead>\n",
              "    <tr style=\"text-align: right;\">\n",
              "      <th></th>\n",
              "      <th>GameType</th>\n",
              "      <th>Location</th>\n",
              "      <th>Date</th>\n",
              "      <th>Time</th>\n",
              "      <th>WinningTeam</th>\n",
              "      <th>Quarter</th>\n",
              "      <th>SecLeft</th>\n",
              "      <th>AwayTeam</th>\n",
              "      <th>AwayPlay</th>\n",
              "      <th>AwayScore</th>\n",
              "      <th>HomeTeam</th>\n",
              "      <th>HomePlay</th>\n",
              "      <th>HomeScore</th>\n",
              "      <th>Shooter</th>\n",
              "      <th>ShotType</th>\n",
              "      <th>ShotOutcome</th>\n",
              "      <th>ShotDist</th>\n",
              "      <th>Assister</th>\n",
              "      <th>Blocker</th>\n",
              "      <th>FoulType</th>\n",
              "      <th>Fouler</th>\n",
              "      <th>Fouled</th>\n",
              "      <th>Rebounder</th>\n",
              "      <th>ReboundType</th>\n",
              "    </tr>\n",
              "  </thead>\n",
              "  <tbody>\n",
              "    <tr>\n",
              "      <th>0</th>\n",
              "      <td>regular</td>\n",
              "      <td>Scotiabank Arena Toronto Canada</td>\n",
              "      <td>October 22 2019</td>\n",
              "      <td>8:00 PM</td>\n",
              "      <td>TOR</td>\n",
              "      <td>1</td>\n",
              "      <td>720</td>\n",
              "      <td>NOP</td>\n",
              "      <td>Jump ball: D. Favors vs. M. Gasol (L. Ball gai...</td>\n",
              "      <td>0</td>\n",
              "      <td>TOR</td>\n",
              "      <td>NaN</td>\n",
              "      <td>0</td>\n",
              "      <td>NaN</td>\n",
              "      <td>NaN</td>\n",
              "      <td>NaN</td>\n",
              "      <td>NaN</td>\n",
              "      <td>NaN</td>\n",
              "      <td>NaN</td>\n",
              "      <td>NaN</td>\n",
              "      <td>NaN</td>\n",
              "      <td>NaN</td>\n",
              "      <td>NaN</td>\n",
              "      <td>NaN</td>\n",
              "    </tr>\n",
              "    <tr>\n",
              "      <th>1</th>\n",
              "      <td>regular</td>\n",
              "      <td>Scotiabank Arena Toronto Canada</td>\n",
              "      <td>October 22 2019</td>\n",
              "      <td>8:00 PM</td>\n",
              "      <td>TOR</td>\n",
              "      <td>1</td>\n",
              "      <td>708</td>\n",
              "      <td>NOP</td>\n",
              "      <td>L. Ball misses 2-pt jump shot from 11 ft</td>\n",
              "      <td>0</td>\n",
              "      <td>TOR</td>\n",
              "      <td>NaN</td>\n",
              "      <td>0</td>\n",
              "      <td>L. Ball - balllo01</td>\n",
              "      <td>2-pt jump shot</td>\n",
              "      <td>miss</td>\n",
              "      <td>11.0</td>\n",
              "      <td>NaN</td>\n",
              "      <td>NaN</td>\n",
              "      <td>NaN</td>\n",
              "      <td>NaN</td>\n",
              "      <td>NaN</td>\n",
              "      <td>NaN</td>\n",
              "      <td>NaN</td>\n",
              "    </tr>\n",
              "    <tr>\n",
              "      <th>2</th>\n",
              "      <td>regular</td>\n",
              "      <td>Scotiabank Arena Toronto Canada</td>\n",
              "      <td>October 22 2019</td>\n",
              "      <td>8:00 PM</td>\n",
              "      <td>TOR</td>\n",
              "      <td>1</td>\n",
              "      <td>707</td>\n",
              "      <td>NOP</td>\n",
              "      <td>Offensive rebound by D. Favors</td>\n",
              "      <td>0</td>\n",
              "      <td>TOR</td>\n",
              "      <td>NaN</td>\n",
              "      <td>0</td>\n",
              "      <td>NaN</td>\n",
              "      <td>NaN</td>\n",
              "      <td>NaN</td>\n",
              "      <td>NaN</td>\n",
              "      <td>NaN</td>\n",
              "      <td>NaN</td>\n",
              "      <td>NaN</td>\n",
              "      <td>NaN</td>\n",
              "      <td>NaN</td>\n",
              "      <td>D. Favors - favorde01</td>\n",
              "      <td>offensive</td>\n",
              "    </tr>\n",
              "    <tr>\n",
              "      <th>3</th>\n",
              "      <td>regular</td>\n",
              "      <td>Scotiabank Arena Toronto Canada</td>\n",
              "      <td>October 22 2019</td>\n",
              "      <td>8:00 PM</td>\n",
              "      <td>TOR</td>\n",
              "      <td>1</td>\n",
              "      <td>707</td>\n",
              "      <td>NOP</td>\n",
              "      <td>D. Favors makes 2-pt layup at rim</td>\n",
              "      <td>2</td>\n",
              "      <td>TOR</td>\n",
              "      <td>NaN</td>\n",
              "      <td>0</td>\n",
              "      <td>D. Favors - favorde01</td>\n",
              "      <td>2-pt layup</td>\n",
              "      <td>make</td>\n",
              "      <td>0.0</td>\n",
              "      <td>NaN</td>\n",
              "      <td>NaN</td>\n",
              "      <td>NaN</td>\n",
              "      <td>NaN</td>\n",
              "      <td>NaN</td>\n",
              "      <td>NaN</td>\n",
              "      <td>NaN</td>\n",
              "    </tr>\n",
              "    <tr>\n",
              "      <th>4</th>\n",
              "      <td>regular</td>\n",
              "      <td>Scotiabank Arena Toronto Canada</td>\n",
              "      <td>October 22 2019</td>\n",
              "      <td>8:00 PM</td>\n",
              "      <td>TOR</td>\n",
              "      <td>1</td>\n",
              "      <td>689</td>\n",
              "      <td>NOP</td>\n",
              "      <td>NaN</td>\n",
              "      <td>2</td>\n",
              "      <td>TOR</td>\n",
              "      <td>O. Anunoby misses 2-pt layup from 3 ft</td>\n",
              "      <td>0</td>\n",
              "      <td>O. Anunoby - anunoog01</td>\n",
              "      <td>2-pt layup</td>\n",
              "      <td>miss</td>\n",
              "      <td>3.0</td>\n",
              "      <td>NaN</td>\n",
              "      <td>NaN</td>\n",
              "      <td>NaN</td>\n",
              "      <td>NaN</td>\n",
              "      <td>NaN</td>\n",
              "      <td>NaN</td>\n",
              "      <td>NaN</td>\n",
              "    </tr>\n",
              "    <tr>\n",
              "      <th>...</th>\n",
              "      <td>...</td>\n",
              "      <td>...</td>\n",
              "      <td>...</td>\n",
              "      <td>...</td>\n",
              "      <td>...</td>\n",
              "      <td>...</td>\n",
              "      <td>...</td>\n",
              "      <td>...</td>\n",
              "      <td>...</td>\n",
              "      <td>...</td>\n",
              "      <td>...</td>\n",
              "      <td>...</td>\n",
              "      <td>...</td>\n",
              "      <td>...</td>\n",
              "      <td>...</td>\n",
              "      <td>...</td>\n",
              "      <td>...</td>\n",
              "      <td>...</td>\n",
              "      <td>...</td>\n",
              "      <td>...</td>\n",
              "      <td>...</td>\n",
              "      <td>...</td>\n",
              "      <td>...</td>\n",
              "      <td>...</td>\n",
              "    </tr>\n",
              "    <tr>\n",
              "      <th>451187</th>\n",
              "      <td>playoff</td>\n",
              "      <td>The Arena Bay Lake Florida</td>\n",
              "      <td>October 11 2020</td>\n",
              "      <td>7:30 PM</td>\n",
              "      <td>LAL</td>\n",
              "      <td>4</td>\n",
              "      <td>29</td>\n",
              "      <td>LAL</td>\n",
              "      <td>NaN</td>\n",
              "      <td>103</td>\n",
              "      <td>MIA</td>\n",
              "      <td>K. Olynyk makes 2-pt layup from 2 ft</td>\n",
              "      <td>90</td>\n",
              "      <td>K. Olynyk - olynyke01</td>\n",
              "      <td>2-pt layup</td>\n",
              "      <td>make</td>\n",
              "      <td>2.0</td>\n",
              "      <td>NaN</td>\n",
              "      <td>NaN</td>\n",
              "      <td>NaN</td>\n",
              "      <td>NaN</td>\n",
              "      <td>NaN</td>\n",
              "      <td>NaN</td>\n",
              "      <td>NaN</td>\n",
              "    </tr>\n",
              "    <tr>\n",
              "      <th>451188</th>\n",
              "      <td>playoff</td>\n",
              "      <td>The Arena Bay Lake Florida</td>\n",
              "      <td>October 11 2020</td>\n",
              "      <td>7:30 PM</td>\n",
              "      <td>LAL</td>\n",
              "      <td>4</td>\n",
              "      <td>20</td>\n",
              "      <td>LAL</td>\n",
              "      <td>D. Howard makes 3-pt jump shot from 30 ft (ass...</td>\n",
              "      <td>106</td>\n",
              "      <td>MIA</td>\n",
              "      <td>NaN</td>\n",
              "      <td>90</td>\n",
              "      <td>D. Howard - howardw01</td>\n",
              "      <td>3-pt jump shot</td>\n",
              "      <td>make</td>\n",
              "      <td>30.0</td>\n",
              "      <td>A. Caruso - carusal01</td>\n",
              "      <td>NaN</td>\n",
              "      <td>NaN</td>\n",
              "      <td>NaN</td>\n",
              "      <td>NaN</td>\n",
              "      <td>NaN</td>\n",
              "      <td>NaN</td>\n",
              "    </tr>\n",
              "    <tr>\n",
              "      <th>451189</th>\n",
              "      <td>playoff</td>\n",
              "      <td>The Arena Bay Lake Florida</td>\n",
              "      <td>October 11 2020</td>\n",
              "      <td>7:30 PM</td>\n",
              "      <td>LAL</td>\n",
              "      <td>4</td>\n",
              "      <td>15</td>\n",
              "      <td>LAL</td>\n",
              "      <td>NaN</td>\n",
              "      <td>106</td>\n",
              "      <td>MIA</td>\n",
              "      <td>S. Hill makes 3-pt jump shot from 29 ft</td>\n",
              "      <td>93</td>\n",
              "      <td>S. Hill - hillso01</td>\n",
              "      <td>3-pt jump shot</td>\n",
              "      <td>make</td>\n",
              "      <td>29.0</td>\n",
              "      <td>NaN</td>\n",
              "      <td>NaN</td>\n",
              "      <td>NaN</td>\n",
              "      <td>NaN</td>\n",
              "      <td>NaN</td>\n",
              "      <td>NaN</td>\n",
              "      <td>NaN</td>\n",
              "    </tr>\n",
              "    <tr>\n",
              "      <th>451190</th>\n",
              "      <td>playoff</td>\n",
              "      <td>The Arena Bay Lake Florida</td>\n",
              "      <td>October 11 2020</td>\n",
              "      <td>7:30 PM</td>\n",
              "      <td>LAL</td>\n",
              "      <td>4</td>\n",
              "      <td>0</td>\n",
              "      <td>LAL</td>\n",
              "      <td>End of 4th quarter</td>\n",
              "      <td>106</td>\n",
              "      <td>MIA</td>\n",
              "      <td>NaN</td>\n",
              "      <td>93</td>\n",
              "      <td>NaN</td>\n",
              "      <td>NaN</td>\n",
              "      <td>NaN</td>\n",
              "      <td>NaN</td>\n",
              "      <td>NaN</td>\n",
              "      <td>NaN</td>\n",
              "      <td>NaN</td>\n",
              "      <td>NaN</td>\n",
              "      <td>NaN</td>\n",
              "      <td>NaN</td>\n",
              "      <td>NaN</td>\n",
              "    </tr>\n",
              "    <tr>\n",
              "      <th>451191</th>\n",
              "      <td>playoff</td>\n",
              "      <td>The Arena Bay Lake Florida</td>\n",
              "      <td>October 11 2020</td>\n",
              "      <td>7:30 PM</td>\n",
              "      <td>LAL</td>\n",
              "      <td>4</td>\n",
              "      <td>0</td>\n",
              "      <td>LAL</td>\n",
              "      <td>End of Game</td>\n",
              "      <td>106</td>\n",
              "      <td>MIA</td>\n",
              "      <td>NaN</td>\n",
              "      <td>93</td>\n",
              "      <td>NaN</td>\n",
              "      <td>NaN</td>\n",
              "      <td>NaN</td>\n",
              "      <td>NaN</td>\n",
              "      <td>NaN</td>\n",
              "      <td>NaN</td>\n",
              "      <td>NaN</td>\n",
              "      <td>NaN</td>\n",
              "      <td>NaN</td>\n",
              "      <td>NaN</td>\n",
              "      <td>NaN</td>\n",
              "    </tr>\n",
              "  </tbody>\n",
              "</table>\n",
              "<p>451192 rows × 24 columns</p>\n",
              "</div>"
            ],
            "text/plain": [
              "       GameType  ... ReboundType\n",
              "0       regular  ...         NaN\n",
              "1       regular  ...         NaN\n",
              "2       regular  ...   offensive\n",
              "3       regular  ...         NaN\n",
              "4       regular  ...         NaN\n",
              "...         ...  ...         ...\n",
              "451187  playoff  ...         NaN\n",
              "451188  playoff  ...         NaN\n",
              "451189  playoff  ...         NaN\n",
              "451190  playoff  ...         NaN\n",
              "451191  playoff  ...         NaN\n",
              "\n",
              "[451192 rows x 24 columns]"
            ]
          },
          "metadata": {
            "tags": []
          },
          "execution_count": 4
        }
      ]
    },
    {
      "cell_type": "markdown",
      "metadata": {
        "id": "-HvK7ovO98bf"
      },
      "source": [
        "---\n",
        "## Step 1: Data Cleanup\n",
        "\n",
        "List problem again.\n",
        "\n",
        "Our dataset has these fields:\n",
        "GameType, Location, Date, Time, FoulType, Fouler, Fouled, WinningTeam, Quarter, SecLeft, AwayTeam, AwayPlay, AwayScore, HomeTeam, HomePlay, HomeScore, Shooter, ShotType, ShotOutcome, ShotDist, Assister, Blocker, Rebounder, ReboundType\n",
        "\n",
        "#### Stop and think:\n",
        "What fields will we not need to make our prediction?\n"
      ]
    },
    {
      "cell_type": "markdown",
      "metadata": {
        "id": "c9aO9XiE-VeM"
      },
      "source": [
        "#### *Your answer here:*\n",
        "> \n",
        "\n",
        "Once ready, click to reveal the answer:"
      ]
    },
    {
      "cell_type": "markdown",
      "metadata": {
        "id": "729bRWnz-YXZ"
      },
      "source": [
        "Great! Actually, we can remove these fields:\n",
        "\n",
        "GameType, Location, Date, Time, FoulType, Fouler, Fouled, Rebound, ReboundType\n",
        "\n",
        "> Explain why here.\n",
        "\n",
        "> Make suggestion: maybe can add new field; remove Rebound, ReboundType rows, but add to next shot if the shot followed a rebound or not?"
      ]
    },
    {
      "cell_type": "markdown",
      "metadata": {
        "id": "HF9_mg9gHc4G"
      },
      "source": [
        "#### Let's remove those fields!"
      ]
    },
    {
      "cell_type": "code",
      "metadata": {
        "id": "bZf1E4uRHhj2"
      },
      "source": [
        "## *Your code here.*\n",
        "\n",
        "\n",
        "# How does the dataframe look now?\n",
        "df_nba"
      ],
      "execution_count": null,
      "outputs": []
    },
    {
      "cell_type": "markdown",
      "metadata": {
        "id": "tJqIiX8TIqun"
      },
      "source": [
        "#### Now, let's covert some variables!\n",
        "\n",
        "Qualitative get converted to quantitative."
      ]
    },
    {
      "cell_type": "code",
      "metadata": {
        "id": "4g6_48JMJBMN"
      },
      "source": [
        ""
      ],
      "execution_count": null,
      "outputs": []
    },
    {
      "cell_type": "markdown",
      "metadata": {
        "id": "PFxXosrIIc15"
      },
      "source": [
        "---\n",
        "## Step 2: Find frequent item sets"
      ]
    },
    {
      "cell_type": "code",
      "metadata": {
        "id": "3fLpZtq0I2FM"
      },
      "source": [
        ""
      ],
      "execution_count": null,
      "outputs": []
    },
    {
      "cell_type": "markdown",
      "metadata": {
        "id": "rXLulo9mIwSA"
      },
      "source": [
        "---\n",
        "## Step 3: Build Association Model"
      ]
    },
    {
      "cell_type": "code",
      "metadata": {
        "id": "uItGAvz-I2oE"
      },
      "source": [
        ""
      ],
      "execution_count": null,
      "outputs": []
    }
  ]
}