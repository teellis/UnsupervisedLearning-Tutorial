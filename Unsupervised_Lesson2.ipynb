{
  "nbformat": 4,
  "nbformat_minor": 0,
  "metadata": {
    "colab": {
      "name": "Unsupervised-Lesson2.ipynb",
      "provenance": [],
      "collapsed_sections": [],
      "authorship_tag": "ABX9TyMVOX8VLgpkST3OLxy8iLbb",
      "include_colab_link": true
    },
    "kernelspec": {
      "name": "python3",
      "display_name": "Python 3"
    },
    "language_info": {
      "name": "python"
    }
  },
  "cells": [
    {
      "cell_type": "markdown",
      "metadata": {
        "id": "view-in-github",
        "colab_type": "text"
      },
      "source": [
        "<a href=\"https://colab.research.google.com/github/teellis/UnsupervisedLearning-Tutorial/blob/main/Unsupervised_Lesson2.ipynb\" target=\"_parent\"><img src=\"https://colab.research.google.com/assets/colab-badge.svg\" alt=\"Open In Colab\"/></a>"
      ]
    },
    {
      "cell_type": "markdown",
      "metadata": {
        "id": "OXGrWnKztGT-"
      },
      "source": [
        "right now this is just some starter code, organize later"
      ]
    },
    {
      "cell_type": "code",
      "metadata": {
        "id": "QV7JDRuzskmd"
      },
      "source": [
        "import numpy as np\n",
        "import pandas as pd"
      ],
      "execution_count": null,
      "outputs": []
    },
    {
      "cell_type": "code",
      "metadata": {
        "colab": {
          "base_uri": "https://localhost:8080/",
          "height": 204
        },
        "id": "8A0TgdXXsfs_",
        "outputId": "f8c7722d-cc9a-45b6-f3e6-d99dcf961f4a"
      },
      "source": [
        "# Load the groceries dataset from GitHub.\n",
        "# dataset source: https://www.kaggle.com/heeraldedhia/groceries-dataset\n",
        "df_groceries = pd.read_csv('https://raw.githubusercontent.com/teellis/UnsupervisedLearning-Tutorial/main/Groceries_dataset.csv')\n",
        "df_groceries.head()"
      ],
      "execution_count": null,
      "outputs": [
        {
          "output_type": "execute_result",
          "data": {
            "text/html": [
              "<div>\n",
              "<style scoped>\n",
              "    .dataframe tbody tr th:only-of-type {\n",
              "        vertical-align: middle;\n",
              "    }\n",
              "\n",
              "    .dataframe tbody tr th {\n",
              "        vertical-align: top;\n",
              "    }\n",
              "\n",
              "    .dataframe thead th {\n",
              "        text-align: right;\n",
              "    }\n",
              "</style>\n",
              "<table border=\"1\" class=\"dataframe\">\n",
              "  <thead>\n",
              "    <tr style=\"text-align: right;\">\n",
              "      <th></th>\n",
              "      <th>Member_number</th>\n",
              "      <th>Date</th>\n",
              "      <th>itemDescription</th>\n",
              "    </tr>\n",
              "  </thead>\n",
              "  <tbody>\n",
              "    <tr>\n",
              "      <th>0</th>\n",
              "      <td>1808</td>\n",
              "      <td>21-07-2015</td>\n",
              "      <td>tropical fruit</td>\n",
              "    </tr>\n",
              "    <tr>\n",
              "      <th>1</th>\n",
              "      <td>2552</td>\n",
              "      <td>05-01-2015</td>\n",
              "      <td>whole milk</td>\n",
              "    </tr>\n",
              "    <tr>\n",
              "      <th>2</th>\n",
              "      <td>2300</td>\n",
              "      <td>19-09-2015</td>\n",
              "      <td>pip fruit</td>\n",
              "    </tr>\n",
              "    <tr>\n",
              "      <th>3</th>\n",
              "      <td>1187</td>\n",
              "      <td>12-12-2015</td>\n",
              "      <td>other vegetables</td>\n",
              "    </tr>\n",
              "    <tr>\n",
              "      <th>4</th>\n",
              "      <td>3037</td>\n",
              "      <td>01-02-2015</td>\n",
              "      <td>whole milk</td>\n",
              "    </tr>\n",
              "  </tbody>\n",
              "</table>\n",
              "</div>"
            ],
            "text/plain": [
              "   Member_number        Date   itemDescription\n",
              "0           1808  21-07-2015    tropical fruit\n",
              "1           2552  05-01-2015        whole milk\n",
              "2           2300  19-09-2015         pip fruit\n",
              "3           1187  12-12-2015  other vegetables\n",
              "4           3037  01-02-2015        whole milk"
            ]
          },
          "metadata": {
            "tags": []
          },
          "execution_count": 2
        }
      ]
    },
    {
      "cell_type": "code",
      "metadata": {
        "colab": {
          "base_uri": "https://localhost:8080/"
        },
        "id": "ZBZl-qMPtQvh",
        "outputId": "bc5044af-3bee-4843-feef-38e9cde2de7c"
      },
      "source": [
        "# Check that there are no nulls\n",
        "df_groceries.isnull().values.any()"
      ],
      "execution_count": null,
      "outputs": [
        {
          "output_type": "execute_result",
          "data": {
            "text/plain": [
              "False"
            ]
          },
          "metadata": {
            "tags": []
          },
          "execution_count": 3
        }
      ]
    },
    {
      "cell_type": "code",
      "metadata": {
        "colab": {
          "base_uri": "https://localhost:8080/"
        },
        "id": "ND7ZvB4nslCq",
        "outputId": "560e7af4-50f5-45d5-e2df-9ffca3c2d6ff"
      },
      "source": [
        "# Take a look at what kinds of things people have bought\n",
        "df_groceries['itemDescription'].unique()"
      ],
      "execution_count": null,
      "outputs": [
        {
          "output_type": "execute_result",
          "data": {
            "text/plain": [
              "array(['tropical fruit', 'whole milk', 'pip fruit', 'other vegetables',\n",
              "       'rolls/buns', 'pot plants', 'citrus fruit', 'beef', 'frankfurter',\n",
              "       'chicken', 'butter', 'fruit/vegetable juice',\n",
              "       'packaged fruit/vegetables', 'chocolate', 'specialty bar',\n",
              "       'butter milk', 'bottled water', 'yogurt', 'sausage', 'brown bread',\n",
              "       'hamburger meat', 'root vegetables', 'pork', 'pastry',\n",
              "       'canned beer', 'berries', 'coffee', 'misc. beverages', 'ham',\n",
              "       'turkey', 'curd cheese', 'red/blush wine',\n",
              "       'frozen potato products', 'flour', 'sugar', 'frozen meals',\n",
              "       'herbs', 'soda', 'detergent', 'grapes', 'processed cheese', 'fish',\n",
              "       'sparkling wine', 'newspapers', 'curd', 'pasta', 'popcorn',\n",
              "       'finished products', 'beverages', 'bottled beer', 'dessert',\n",
              "       'dog food', 'specialty chocolate', 'condensed milk', 'cleaner',\n",
              "       'white wine', 'meat', 'ice cream', 'hard cheese', 'cream cheese ',\n",
              "       'liquor', 'pickled vegetables', 'liquor (appetizer)', 'UHT-milk',\n",
              "       'candy', 'onions', 'hair spray', 'photo/film', 'domestic eggs',\n",
              "       'margarine', 'shopping bags', 'salt', 'oil', 'whipped/sour cream',\n",
              "       'frozen vegetables', 'sliced cheese', 'dish cleaner',\n",
              "       'baking powder', 'specialty cheese', 'salty snack',\n",
              "       'Instant food products', 'pet care', 'white bread',\n",
              "       'female sanitary products', 'cling film/bags', 'soap',\n",
              "       'frozen chicken', 'house keeping products', 'spread cheese',\n",
              "       'decalcifier', 'frozen dessert', 'vinegar', 'nuts/prunes',\n",
              "       'potato products', 'frozen fish', 'hygiene articles',\n",
              "       'artif. sweetener', 'light bulbs', 'canned vegetables',\n",
              "       'chewing gum', 'canned fish', 'cookware', 'semi-finished bread',\n",
              "       'cat food', 'bathroom cleaner', 'prosecco', 'liver loaf',\n",
              "       'zwieback', 'canned fruit', 'frozen fruits', 'brandy',\n",
              "       'baby cosmetics', 'spices', 'napkins', 'waffles', 'sauces', 'rum',\n",
              "       'chocolate marshmallow', 'long life bakery product', 'bags',\n",
              "       'sweet spreads', 'soups', 'mustard', 'specialty fat',\n",
              "       'instant coffee', 'snack products', 'organic sausage',\n",
              "       'soft cheese', 'mayonnaise', 'dental care', 'roll products ',\n",
              "       'kitchen towels', 'flower soil/fertilizer', 'cereals',\n",
              "       'meat spreads', 'dishes', 'male cosmetics', 'candles', 'whisky',\n",
              "       'tidbits', 'cooking chocolate', 'seasonal products', 'liqueur',\n",
              "       'abrasive cleaner', 'syrup', 'ketchup', 'cream', 'skin care',\n",
              "       'rubbing alcohol', 'nut snack', 'cocoa drinks', 'softener',\n",
              "       'organic products', 'cake bar', 'honey', 'jam', 'kitchen utensil',\n",
              "       'flower (seeds)', 'rice', 'tea', 'salad dressing',\n",
              "       'specialty vegetables', 'pudding powder', 'ready soups',\n",
              "       'make up remover', 'toilet cleaner', 'preservation products'],\n",
              "      dtype=object)"
            ]
          },
          "metadata": {
            "tags": []
          },
          "execution_count": 4
        }
      ]
    },
    {
      "cell_type": "code",
      "metadata": {
        "colab": {
          "base_uri": "https://localhost:8080/",
          "height": 232
        },
        "id": "fLeC90mguZ1H",
        "outputId": "f9d60329-10f2-4c49-8c75-d0201e54b27b"
      },
      "source": [
        "# Group by customer (member_nember) and purchase date (Date)\n",
        "df_purchases = df_groceries.groupby(['Member_number','Date'])['itemDescription'].apply(lambda x: list(x))\n",
        "df_purchases.head()\n",
        "\n",
        "# We can now see what items a customer bought together on a given date"
      ],
      "execution_count": 1,
      "outputs": [
        {
          "output_type": "error",
          "ename": "NameError",
          "evalue": "ignored",
          "traceback": [
            "\u001b[0;31m---------------------------------------------------------------------------\u001b[0m",
            "\u001b[0;31mNameError\u001b[0m                                 Traceback (most recent call last)",
            "\u001b[0;32m<ipython-input-1-f320ebcefea7>\u001b[0m in \u001b[0;36m<module>\u001b[0;34m()\u001b[0m\n\u001b[1;32m      1\u001b[0m \u001b[0;31m# Group by customer (member_nember) and purchase date (Date)\u001b[0m\u001b[0;34m\u001b[0m\u001b[0;34m\u001b[0m\u001b[0;34m\u001b[0m\u001b[0m\n\u001b[0;32m----> 2\u001b[0;31m \u001b[0mdf_purchases\u001b[0m \u001b[0;34m=\u001b[0m \u001b[0mdf_groceries\u001b[0m\u001b[0;34m.\u001b[0m\u001b[0mgroupby\u001b[0m\u001b[0;34m(\u001b[0m\u001b[0;34m[\u001b[0m\u001b[0;34m'Member_number'\u001b[0m\u001b[0;34m,\u001b[0m\u001b[0;34m'Date'\u001b[0m\u001b[0;34m]\u001b[0m\u001b[0;34m)\u001b[0m\u001b[0;34m[\u001b[0m\u001b[0;34m'itemDescription'\u001b[0m\u001b[0;34m]\u001b[0m\u001b[0;34m.\u001b[0m\u001b[0mapply\u001b[0m\u001b[0;34m(\u001b[0m\u001b[0;32mlambda\u001b[0m \u001b[0mx\u001b[0m\u001b[0;34m:\u001b[0m \u001b[0mlist\u001b[0m\u001b[0;34m(\u001b[0m\u001b[0mx\u001b[0m\u001b[0;34m)\u001b[0m\u001b[0;34m)\u001b[0m\u001b[0;34m\u001b[0m\u001b[0;34m\u001b[0m\u001b[0m\n\u001b[0m\u001b[1;32m      3\u001b[0m \u001b[0mdf_purchases\u001b[0m\u001b[0;34m.\u001b[0m\u001b[0mhead\u001b[0m\u001b[0;34m(\u001b[0m\u001b[0;34m)\u001b[0m\u001b[0;34m\u001b[0m\u001b[0;34m\u001b[0m\u001b[0m\n\u001b[1;32m      4\u001b[0m \u001b[0;34m\u001b[0m\u001b[0m\n\u001b[1;32m      5\u001b[0m \u001b[0;31m# We can now see what items a customer bought together on a given date\u001b[0m\u001b[0;34m\u001b[0m\u001b[0;34m\u001b[0m\u001b[0;34m\u001b[0m\u001b[0m\n",
            "\u001b[0;31mNameError\u001b[0m: name 'df_groceries' is not defined"
          ]
        }
      ]
    },
    {
      "cell_type": "code",
      "metadata": {
        "id": "XU-gLszzgSUY"
      },
      "source": [
        "# run through apriori algorithm impl on groceries dataset here, bla bla bla"
      ],
      "execution_count": null,
      "outputs": []
    }
  ]
}