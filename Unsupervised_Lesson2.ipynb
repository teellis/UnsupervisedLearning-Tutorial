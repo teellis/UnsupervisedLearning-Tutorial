{
  "nbformat": 4,
  "nbformat_minor": 0,
  "metadata": {
    "colab": {
      "name": "Unsupervised-Lesson2.ipynb",
      "provenance": [],
      "collapsed_sections": [],
      "include_colab_link": true
    },
    "kernelspec": {
      "name": "python3",
      "display_name": "Python 3"
    },
    "language_info": {
      "name": "python"
    }
  },
  "cells": [
    {
      "cell_type": "markdown",
      "metadata": {
        "id": "view-in-github",
        "colab_type": "text"
      },
      "source": [
        "<a href=\"https://colab.research.google.com/github/teellis/UnsupervisedLearning-Tutorial/blob/main/Unsupervised_Lesson2.ipynb\" target=\"_parent\"><img src=\"https://colab.research.google.com/assets/colab-badge.svg\" alt=\"Open In Colab\"/></a>"
      ]
    },
    {
      "cell_type": "markdown",
      "metadata": {
        "id": "SLv22O8f6PGb"
      },
      "source": [
        "# Lesson 2: Market Groceries\n",
        "\n",
        "In this lesson, we'll be using the market groceries dataset to introduce you to the concepts of apriori association rule learning."
      ]
    },
    {
      "cell_type": "code",
      "metadata": {
        "id": "QV7JDRuzskmd"
      },
      "source": [
        "import numpy as np\n",
        "import pandas as pd"
      ],
      "execution_count": 1,
      "outputs": []
    },
    {
      "cell_type": "code",
      "metadata": {
        "colab": {
          "base_uri": "https://localhost:8080/",
          "height": 204
        },
        "id": "8A0TgdXXsfs_",
        "outputId": "80b2cdd3-64a0-4b9d-fae7-50559ce12497"
      },
      "source": [
        "# Load the groceries dataset from GitHub.\n",
        "# dataset source: https://www.kaggle.com/heeraldedhia/groceries-dataset\n",
        "df_groceries = pd.read_csv('https://raw.githubusercontent.com/teellis/UnsupervisedLearning-Tutorial/main/Groceries_dataset.csv')\n",
        "df_groceries.head()"
      ],
      "execution_count": 2,
      "outputs": [
        {
          "output_type": "execute_result",
          "data": {
            "text/html": [
              "<div>\n",
              "<style scoped>\n",
              "    .dataframe tbody tr th:only-of-type {\n",
              "        vertical-align: middle;\n",
              "    }\n",
              "\n",
              "    .dataframe tbody tr th {\n",
              "        vertical-align: top;\n",
              "    }\n",
              "\n",
              "    .dataframe thead th {\n",
              "        text-align: right;\n",
              "    }\n",
              "</style>\n",
              "<table border=\"1\" class=\"dataframe\">\n",
              "  <thead>\n",
              "    <tr style=\"text-align: right;\">\n",
              "      <th></th>\n",
              "      <th>Member_number</th>\n",
              "      <th>Date</th>\n",
              "      <th>itemDescription</th>\n",
              "    </tr>\n",
              "  </thead>\n",
              "  <tbody>\n",
              "    <tr>\n",
              "      <th>0</th>\n",
              "      <td>1808</td>\n",
              "      <td>21-07-2015</td>\n",
              "      <td>tropical fruit</td>\n",
              "    </tr>\n",
              "    <tr>\n",
              "      <th>1</th>\n",
              "      <td>2552</td>\n",
              "      <td>05-01-2015</td>\n",
              "      <td>whole milk</td>\n",
              "    </tr>\n",
              "    <tr>\n",
              "      <th>2</th>\n",
              "      <td>2300</td>\n",
              "      <td>19-09-2015</td>\n",
              "      <td>pip fruit</td>\n",
              "    </tr>\n",
              "    <tr>\n",
              "      <th>3</th>\n",
              "      <td>1187</td>\n",
              "      <td>12-12-2015</td>\n",
              "      <td>other vegetables</td>\n",
              "    </tr>\n",
              "    <tr>\n",
              "      <th>4</th>\n",
              "      <td>3037</td>\n",
              "      <td>01-02-2015</td>\n",
              "      <td>whole milk</td>\n",
              "    </tr>\n",
              "  </tbody>\n",
              "</table>\n",
              "</div>"
            ],
            "text/plain": [
              "   Member_number        Date   itemDescription\n",
              "0           1808  21-07-2015    tropical fruit\n",
              "1           2552  05-01-2015        whole milk\n",
              "2           2300  19-09-2015         pip fruit\n",
              "3           1187  12-12-2015  other vegetables\n",
              "4           3037  01-02-2015        whole milk"
            ]
          },
          "metadata": {
            "tags": []
          },
          "execution_count": 2
        }
      ]
    },
    {
      "cell_type": "code",
      "metadata": {
        "colab": {
          "base_uri": "https://localhost:8080/"
        },
        "id": "ZBZl-qMPtQvh",
        "outputId": "ee342e9c-b4e3-40df-b52d-a3892b9487c7"
      },
      "source": [
        "# Check that there are no nulls\n",
        "df_groceries.isnull().values.any()"
      ],
      "execution_count": 3,
      "outputs": [
        {
          "output_type": "execute_result",
          "data": {
            "text/plain": [
              "False"
            ]
          },
          "metadata": {
            "tags": []
          },
          "execution_count": 3
        }
      ]
    },
    {
      "cell_type": "code",
      "metadata": {
        "colab": {
          "base_uri": "https://localhost:8080/"
        },
        "id": "ND7ZvB4nslCq",
        "outputId": "ddd60d83-5165-405f-8b6a-318aff3fc234"
      },
      "source": [
        "# Take a look at what kinds of things people have bought\n",
        "df_groceries['itemDescription'].unique()"
      ],
      "execution_count": 4,
      "outputs": [
        {
          "output_type": "execute_result",
          "data": {
            "text/plain": [
              "array(['tropical fruit', 'whole milk', 'pip fruit', 'other vegetables',\n",
              "       'rolls/buns', 'pot plants', 'citrus fruit', 'beef', 'frankfurter',\n",
              "       'chicken', 'butter', 'fruit/vegetable juice',\n",
              "       'packaged fruit/vegetables', 'chocolate', 'specialty bar',\n",
              "       'butter milk', 'bottled water', 'yogurt', 'sausage', 'brown bread',\n",
              "       'hamburger meat', 'root vegetables', 'pork', 'pastry',\n",
              "       'canned beer', 'berries', 'coffee', 'misc. beverages', 'ham',\n",
              "       'turkey', 'curd cheese', 'red/blush wine',\n",
              "       'frozen potato products', 'flour', 'sugar', 'frozen meals',\n",
              "       'herbs', 'soda', 'detergent', 'grapes', 'processed cheese', 'fish',\n",
              "       'sparkling wine', 'newspapers', 'curd', 'pasta', 'popcorn',\n",
              "       'finished products', 'beverages', 'bottled beer', 'dessert',\n",
              "       'dog food', 'specialty chocolate', 'condensed milk', 'cleaner',\n",
              "       'white wine', 'meat', 'ice cream', 'hard cheese', 'cream cheese ',\n",
              "       'liquor', 'pickled vegetables', 'liquor (appetizer)', 'UHT-milk',\n",
              "       'candy', 'onions', 'hair spray', 'photo/film', 'domestic eggs',\n",
              "       'margarine', 'shopping bags', 'salt', 'oil', 'whipped/sour cream',\n",
              "       'frozen vegetables', 'sliced cheese', 'dish cleaner',\n",
              "       'baking powder', 'specialty cheese', 'salty snack',\n",
              "       'Instant food products', 'pet care', 'white bread',\n",
              "       'female sanitary products', 'cling film/bags', 'soap',\n",
              "       'frozen chicken', 'house keeping products', 'spread cheese',\n",
              "       'decalcifier', 'frozen dessert', 'vinegar', 'nuts/prunes',\n",
              "       'potato products', 'frozen fish', 'hygiene articles',\n",
              "       'artif. sweetener', 'light bulbs', 'canned vegetables',\n",
              "       'chewing gum', 'canned fish', 'cookware', 'semi-finished bread',\n",
              "       'cat food', 'bathroom cleaner', 'prosecco', 'liver loaf',\n",
              "       'zwieback', 'canned fruit', 'frozen fruits', 'brandy',\n",
              "       'baby cosmetics', 'spices', 'napkins', 'waffles', 'sauces', 'rum',\n",
              "       'chocolate marshmallow', 'long life bakery product', 'bags',\n",
              "       'sweet spreads', 'soups', 'mustard', 'specialty fat',\n",
              "       'instant coffee', 'snack products', 'organic sausage',\n",
              "       'soft cheese', 'mayonnaise', 'dental care', 'roll products ',\n",
              "       'kitchen towels', 'flower soil/fertilizer', 'cereals',\n",
              "       'meat spreads', 'dishes', 'male cosmetics', 'candles', 'whisky',\n",
              "       'tidbits', 'cooking chocolate', 'seasonal products', 'liqueur',\n",
              "       'abrasive cleaner', 'syrup', 'ketchup', 'cream', 'skin care',\n",
              "       'rubbing alcohol', 'nut snack', 'cocoa drinks', 'softener',\n",
              "       'organic products', 'cake bar', 'honey', 'jam', 'kitchen utensil',\n",
              "       'flower (seeds)', 'rice', 'tea', 'salad dressing',\n",
              "       'specialty vegetables', 'pudding powder', 'ready soups',\n",
              "       'make up remover', 'toilet cleaner', 'preservation products'],\n",
              "      dtype=object)"
            ]
          },
          "metadata": {
            "tags": []
          },
          "execution_count": 4
        }
      ]
    },
    {
      "cell_type": "markdown",
      "metadata": {
        "id": "cF_jWMm26hRm"
      },
      "source": [
        "Now that we've looked at the dataset a bit, let's think. Each row has a member_number, date, and item description. That means that each entry is just one part of a whole purchase. We'll need to group items that are part of one purchase together so we can do our association rule learning."
      ]
    },
    {
      "cell_type": "code",
      "metadata": {
        "colab": {
          "base_uri": "https://localhost:8080/"
        },
        "id": "fLeC90mguZ1H",
        "outputId": "d6a0283c-270b-4aaf-c8f6-a36138335bf6"
      },
      "source": [
        "# Group by customer (member_nember) and purchase date (Date)\n",
        "# Now, we can now see what items a customer bought together on a given date\n",
        "df_purchases = df_groceries.groupby(['Member_number','Date'])['itemDescription'].apply(lambda x: list(x))\n",
        "df_purchases.head()"
      ],
      "execution_count": 44,
      "outputs": [
        {
          "output_type": "execute_result",
          "data": {
            "text/plain": [
              "Member_number  Date      \n",
              "1000           15-03-2015    [sausage, whole milk, semi-finished bread, yog...\n",
              "               24-06-2014                    [whole milk, pastry, salty snack]\n",
              "               24-07-2015                       [canned beer, misc. beverages]\n",
              "               25-11-2015                          [sausage, hygiene articles]\n",
              "               27-05-2015                           [soda, pickled vegetables]\n",
              "Name: itemDescription, dtype: object"
            ]
          },
          "metadata": {
            "tags": []
          },
          "execution_count": 44
        }
      ]
    },
    {
      "cell_type": "markdown",
      "metadata": {
        "id": "jFh8QxFC5HNs"
      },
      "source": [
        "---\n",
        "\n",
        "## Calculating Association Rules Metrics\n",
        "\n",
        "Let's run through some example calculations of the metrics from lesson 1:"
      ]
    },
    {
      "cell_type": "markdown",
      "metadata": {
        "id": "6Q3GEjtd5efu"
      },
      "source": [
        "### Calculating Support\n",
        "\n",
        "First, let's calculate the support for whole milk, the support for yogurt, and the support for $\\{whole\\ milk\\} \\rightarrow \\{yogurt\\}$, using this formula: \n",
        "\n",
        "$support = \\frac{frequency(X, Y)}{N}$\n"
      ]
    },
    {
      "cell_type": "code",
      "metadata": {
        "colab": {
          "base_uri": "https://localhost:8080/"
        },
        "id": "tKYkCFOd4vb1",
        "outputId": "41c2cc00-5b13-483e-f0c2-82f26cffae76"
      },
      "source": [
        "# Calculate the support for whole milk\n",
        "has_whole_milk = ['whole milk' in x for x in df_purchases]\n",
        "whole_milk_support = sum(has_whole_milk) / len(df_purchases)\n",
        "\n",
        "# Calculate the support for yogurt\n",
        "has_yogurt = ['yogurt' in x for x in df_purchases]\n",
        "yogurt_support = sum(has_yogurt) / len(df_purchases)\n",
        "\n",
        "# Calculate the support for butter milk\n",
        "has_butter_milk = ['butter milk' in x for x in df_purchases]\n",
        "butter_milk_support = sum(has_butter_milk) / len(df_purchases)\n",
        "\n",
        "# Calculate the support for whole milk -> yogurt\n",
        "has_whole_milk_yogurt = ['whole milk' in x and 'yogurt' in x for x in df_purchases]\n",
        "whole_milk_yogurt_support = sum(has_whole_milk_yogurt) / len(df_purchases)\n",
        "\n",
        "# Calculate the support for whole milk -> butter milk\n",
        "has_whole_milk_butter_milk = ['whole milk' in x and 'butter milk' in x for x in df_purchases]\n",
        "whole_milk_butter_milk_support = sum(has_whole_milk_butter_milk) / len(df_purchases)\n",
        "\n",
        "print(f\"support(whole milk) = {whole_milk_support}\")\n",
        "print(f\"support(yogurt) = {yogurt_support}\")\n",
        "print(f\"support(butter milk) = {butter_milk_support}\")\n",
        "print(f\"support(whole milk, yogurt) = {whole_milk_yogurt_support}\")\n",
        "print(f\"support(whole milk, butter milk) = {whole_milk_butter_milk_support}\")"
      ],
      "execution_count": 6,
      "outputs": [
        {
          "output_type": "stream",
          "text": [
            "support(whole milk) = 0.15792287642852368\n",
            "support(yogurt) = 0.08587850030074183\n",
            "support(butter milk) = 0.017576689166610975\n",
            "support(whole milk, yogurt) = 0.011160863463209249\n",
            "support(whole milk, butter milk) = 0.001670787943594199\n"
          ],
          "name": "stdout"
        }
      ]
    },
    {
      "cell_type": "markdown",
      "metadata": {
        "id": "7Z3KZRCZ9mG8"
      },
      "source": [
        "This means that there is a 15.8%, 8.6%, and 1.8% chance of whole milk, yogurt, and butter milk appearing in a purchase respectively. Considering combinations, there is a 1.1% chance of both whole milk and yogurt appearing in a purchase, and a 0.17% chance of both whole milk and butter milk appearing in a purchase. \n",
        "\n",
        "\n",
        "---\n",
        "\n"
      ]
    },
    {
      "cell_type": "markdown",
      "metadata": {
        "id": "IUcHX5c3GiwB"
      },
      "source": [
        "### Calculating Confidence\n",
        "Next, let's try calculating the confidence for $\\{whole\\ milk\\} \\rightarrow \\{yogurt\\}$ and $\\{whole\\ milk\\} -> \\{butter\\ milk\\}$, with the formula:\n",
        "\n",
        " $confidence = \\frac{frequency(X, Y)}{frequency(Y)} = \\frac{support(X, Y)}{support(Y)}$\n",
        "\n"
      ]
    },
    {
      "cell_type": "code",
      "metadata": {
        "colab": {
          "base_uri": "https://localhost:8080/"
        },
        "id": "TNXTWqVn4wX8",
        "outputId": "feddaa99-a147-4b90-ba31-6f8851c75711"
      },
      "source": [
        "# Calculate the confidence for whole milk -> yogurt\n",
        "confidence_whole_milk_yogurt = sum(has_whole_milk_yogurt) / sum(has_yogurt)\n",
        "\n",
        "# Calculate the confidence for whole milk -> butter milk\n",
        "confidence_whole_milk_butter_milk = sum(has_whole_milk_butter_milk) / sum(has_butter_milk)\n",
        "\n",
        "print(f\"confidence(whole milk, yogurt) = {confidence_whole_milk_yogurt}\")\n",
        "print(f\"confidence(whole milk, butter milk) = {confidence_whole_milk_butter_milk}\")"
      ],
      "execution_count": 7,
      "outputs": [
        {
          "output_type": "stream",
          "text": [
            "confidence(whole milk, yogurt) = 0.12996108949416343\n",
            "confidence(whole milk, butter milk) = 0.09505703422053231\n"
          ],
          "name": "stdout"
        }
      ]
    },
    {
      "cell_type": "code",
      "metadata": {
        "colab": {
          "base_uri": "https://localhost:8080/"
        },
        "id": "c-LhKCXMj4MS",
        "outputId": "3b6a63c7-bc75-47eb-f0ae-df15210eecfd"
      },
      "source": [
        "# Alternatively, we can use our support values from before:\n",
        "confidence_whole_milk_yogurt = whole_milk_yogurt_support / yogurt_support\n",
        "confidence_whole_milk_butter_milk = whole_milk_butter_milk_support / butter_milk_support\n",
        "\n",
        "print(f\"confidence(whole milk, yogurt) = {confidence_whole_milk_yogurt}\")\n",
        "print(f\"confidence(whole milk, butter milk) = {confidence_whole_milk_butter_milk}\")"
      ],
      "execution_count": 8,
      "outputs": [
        {
          "output_type": "stream",
          "text": [
            "confidence(whole milk, yogurt) = 0.1299610894941634\n",
            "confidence(whole milk, butter milk) = 0.09505703422053231\n"
          ],
          "name": "stdout"
        }
      ]
    },
    {
      "cell_type": "markdown",
      "metadata": {
        "id": "BzTCBjKa-iWr"
      },
      "source": [
        "This means that there is a 13.0% chance that yogurt will be purchased given that whole milk is purchased, while there is only a 9.5% chance that butter milk is purchased given that whole milk is purchased.\n",
        "\n",
        "(Additionally, note that we get the same confidence values regardless of how we calculate it)\n",
        "\n",
        "\n",
        "---\n",
        "\n"
      ]
    },
    {
      "cell_type": "markdown",
      "metadata": {
        "id": "XSZk5ukdldP7"
      },
      "source": [
        "### Calculating Lift\n",
        "\n",
        "Finally, let's calculate the lift for $\\{whole\\ milk\\} \\rightarrow \\{yogurt\\}$ and $\\{whole\\ milk\\} \\rightarrow \\{butter\\ milk\\}$ using the formula for lift: \n",
        "$lift = \\frac{Support(X, Y)}{Support(X) \\cdot Support(Y)} = \\frac{Confidence(X,Y)}{Support(Y)}$"
      ]
    },
    {
      "cell_type": "code",
      "metadata": {
        "id": "wUQYD4MW4xbj",
        "colab": {
          "base_uri": "https://localhost:8080/"
        },
        "outputId": "6c9c78cc-d938-46d6-b606-e47367d5e903"
      },
      "source": [
        "# Calculate the lift for whole milk -> yogurt\n",
        "lift_whole_milk_yogurt = whole_milk_yogurt_support / (whole_milk_support * yogurt_support)\n",
        "\n",
        "# Calculate the lift for whole milk -> butter milk\n",
        "lift_whole_milk_butter_milk = whole_milk_butter_milk_support / (whole_milk_support * butter_milk_support)\n",
        "\n",
        "print(f\"lift(whole milk, yogurt) = {lift_whole_milk_yogurt}\")\n",
        "print(f\"lift(whole milk, butter milk) = {lift_whole_milk_butter_milk}\")"
      ],
      "execution_count": 9,
      "outputs": [
        {
          "output_type": "stream",
          "text": [
            "lift(whole milk, yogurt) = 0.822940237876076\n",
            "lift(whole milk, butter milk) = 0.6019206106821097\n"
          ],
          "name": "stdout"
        }
      ]
    },
    {
      "cell_type": "markdown",
      "metadata": {
        "id": "t0EhZTTV0kia"
      },
      "source": [
        "Since the lift for both itemsets is less than 1, we can say that it is less likely that yogurt or butter milk are bought if whole milk is bought. \n",
        "\n",
        "\n",
        "---"
      ]
    },
    {
      "cell_type": "markdown",
      "metadata": {
        "id": "qlxgOIN5ysh1"
      },
      "source": [
        "## Your Turn\n",
        "\n",
        "Try calculating these metrics yourself!\n",
        "\n",
        "* Support(butter)\n",
        "* Support(sugar)\n",
        "* Support(butter, sugar)\n",
        "* Confidence(butter, sugar)\n",
        "* Lift(butter, sugar)"
      ]
    },
    {
      "cell_type": "code",
      "metadata": {
        "id": "N2CzgZCY4qoB"
      },
      "source": [
        "# YOUR CODE HERE\n",
        "butter_support = None\n",
        "sugar_support = None\n",
        "butter_sugar_support = None\n",
        "butter_sugar_confidence = None\n",
        "butter_sugar_lift = None"
      ],
      "execution_count": 10,
      "outputs": []
    },
    {
      "cell_type": "markdown",
      "metadata": {
        "id": "tk2NbYYC5Ld7"
      },
      "source": [
        "When you're done, unhide the next cell to compare your results."
      ]
    },
    {
      "cell_type": "code",
      "metadata": {
        "colab": {
          "base_uri": "https://localhost:8080/"
        },
        "collapsed": true,
        "cellView": "form",
        "id": "wfoiIhI45OZJ",
        "outputId": "7913b77b-535d-4ec9-d3fd-ea3bdc145894"
      },
      "source": [
        "#@title\n",
        "# Calculate support(butter)\n",
        "has_butter = ['butter' in x for x in df_purchases]\n",
        "butter_support = sum(has_butter) / len(df_purchases)\n",
        "\n",
        "# Calculate support(sugar)\n",
        "has_sugar = ['sugar' in x for x in df_purchases]\n",
        "sugar_support = sum(has_sugar) / len(df_purchases)\n",
        "\n",
        "# Calculate support(butter, sugar)\n",
        "has_butter_sugar = ['butter' in x and 'sugar' in x for x in df_purchases]\n",
        "butter_sugar_support = sum(has_butter_sugar) / len(df_purchases)\n",
        "\n",
        "# Calculate confidence(butter, sugar)\n",
        "butter_sugar_confidence = butter_sugar_support / sugar_support\n",
        "\n",
        "# Calculate lift(butter, sugar)\n",
        "butter_sugar_lift = butter_sugar_confidence / sugar_support\n",
        "\n",
        "print(f\"support(butter) = {butter_support}\")\n",
        "print(f\"support(sugar) = {sugar_support}\")\n",
        "print(f\"support(butter, sugar) = {butter_sugar_support}\")\n",
        "print(f\"confidence(butter, sugar) = {butter_sugar_confidence}\")\n",
        "print(f\"lift(butter, sugar) = {butter_sugar_lift}\")"
      ],
      "execution_count": 11,
      "outputs": [
        {
          "output_type": "stream",
          "text": [
            "support(butter) = 0.03522020985096572\n",
            "support(sugar) = 0.01771035220209851\n",
            "support(butter, sugar) = 0.00040098910646260775\n",
            "confidence(butter, sugar) = 0.022641509433962263\n",
            "lift(butter, sugar) = 1.2784336062655748\n"
          ],
          "name": "stdout"
        }
      ]
    },
    {
      "cell_type": "markdown",
      "metadata": {
        "id": "rPHVVJLh7J42"
      },
      "source": [
        "---\n",
        "\n",
        "## Example Model\n",
        "\n",
        "Finally, let's demonstrate how one would use the apriori algorithm to determine association rules in Python. We'll be using the MLXtend library's apriori implementation for this example. For more information, check out the documentation [here](http://rasbt.github.io/mlxtend/user_guide/frequent_patterns/apriori/)."
      ]
    },
    {
      "cell_type": "code",
      "metadata": {
        "id": "PZHruXlyeVAz"
      },
      "source": [
        "from mlxtend.preprocessing import TransactionEncoder\n",
        "from mlxtend.frequent_patterns import apriori, association_rules"
      ],
      "execution_count": 16,
      "outputs": []
    },
    {
      "cell_type": "code",
      "metadata": {
        "colab": {
          "base_uri": "https://localhost:8080/"
        },
        "id": "9jjqnWofP787",
        "outputId": "72cdccc1-be6b-4d3f-cfab-1bac3450d7de"
      },
      "source": [
        "# MLXtend's apriori function takes in a one-hot encoded dataframe\n",
        "# Extract transactions from dataframe\n",
        "transactions = [x for x in df_purchases]\n",
        "transactions[0:5]"
      ],
      "execution_count": 18,
      "outputs": [
        {
          "output_type": "execute_result",
          "data": {
            "text/plain": [
              "[['sausage', 'whole milk', 'semi-finished bread', 'yogurt'],\n",
              " ['whole milk', 'pastry', 'salty snack'],\n",
              " ['canned beer', 'misc. beverages'],\n",
              " ['sausage', 'hygiene articles'],\n",
              " ['soda', 'pickled vegetables']]"
            ]
          },
          "metadata": {
            "tags": []
          },
          "execution_count": 18
        }
      ]
    },
    {
      "cell_type": "code",
      "metadata": {
        "colab": {
          "base_uri": "https://localhost:8080/",
          "height": 287
        },
        "id": "sCGwS_sdQCvk",
        "outputId": "538dc094-fa6d-400c-c2ac-40f429dbab9c"
      },
      "source": [
        "# One-hot encode transactions\n",
        "te = TransactionEncoder()\n",
        "te_ary = te.fit(transactions).transform(transactions)\n",
        "encoded_transactions = pd.DataFrame(te_ary, columns=te.columns_)\n",
        "encoded_transactions.head()"
      ],
      "execution_count": 23,
      "outputs": [
        {
          "output_type": "execute_result",
          "data": {
            "text/html": [
              "<div>\n",
              "<style scoped>\n",
              "    .dataframe tbody tr th:only-of-type {\n",
              "        vertical-align: middle;\n",
              "    }\n",
              "\n",
              "    .dataframe tbody tr th {\n",
              "        vertical-align: top;\n",
              "    }\n",
              "\n",
              "    .dataframe thead th {\n",
              "        text-align: right;\n",
              "    }\n",
              "</style>\n",
              "<table border=\"1\" class=\"dataframe\">\n",
              "  <thead>\n",
              "    <tr style=\"text-align: right;\">\n",
              "      <th></th>\n",
              "      <th>Instant food products</th>\n",
              "      <th>UHT-milk</th>\n",
              "      <th>abrasive cleaner</th>\n",
              "      <th>artif. sweetener</th>\n",
              "      <th>baby cosmetics</th>\n",
              "      <th>bags</th>\n",
              "      <th>baking powder</th>\n",
              "      <th>bathroom cleaner</th>\n",
              "      <th>beef</th>\n",
              "      <th>berries</th>\n",
              "      <th>beverages</th>\n",
              "      <th>bottled beer</th>\n",
              "      <th>bottled water</th>\n",
              "      <th>brandy</th>\n",
              "      <th>brown bread</th>\n",
              "      <th>butter</th>\n",
              "      <th>butter milk</th>\n",
              "      <th>cake bar</th>\n",
              "      <th>candles</th>\n",
              "      <th>candy</th>\n",
              "      <th>canned beer</th>\n",
              "      <th>canned fish</th>\n",
              "      <th>canned fruit</th>\n",
              "      <th>canned vegetables</th>\n",
              "      <th>cat food</th>\n",
              "      <th>cereals</th>\n",
              "      <th>chewing gum</th>\n",
              "      <th>chicken</th>\n",
              "      <th>chocolate</th>\n",
              "      <th>chocolate marshmallow</th>\n",
              "      <th>citrus fruit</th>\n",
              "      <th>cleaner</th>\n",
              "      <th>cling film/bags</th>\n",
              "      <th>cocoa drinks</th>\n",
              "      <th>coffee</th>\n",
              "      <th>condensed milk</th>\n",
              "      <th>cooking chocolate</th>\n",
              "      <th>cookware</th>\n",
              "      <th>cream</th>\n",
              "      <th>cream cheese</th>\n",
              "      <th>...</th>\n",
              "      <th>salt</th>\n",
              "      <th>salty snack</th>\n",
              "      <th>sauces</th>\n",
              "      <th>sausage</th>\n",
              "      <th>seasonal products</th>\n",
              "      <th>semi-finished bread</th>\n",
              "      <th>shopping bags</th>\n",
              "      <th>skin care</th>\n",
              "      <th>sliced cheese</th>\n",
              "      <th>snack products</th>\n",
              "      <th>soap</th>\n",
              "      <th>soda</th>\n",
              "      <th>soft cheese</th>\n",
              "      <th>softener</th>\n",
              "      <th>soups</th>\n",
              "      <th>sparkling wine</th>\n",
              "      <th>specialty bar</th>\n",
              "      <th>specialty cheese</th>\n",
              "      <th>specialty chocolate</th>\n",
              "      <th>specialty fat</th>\n",
              "      <th>specialty vegetables</th>\n",
              "      <th>spices</th>\n",
              "      <th>spread cheese</th>\n",
              "      <th>sugar</th>\n",
              "      <th>sweet spreads</th>\n",
              "      <th>syrup</th>\n",
              "      <th>tea</th>\n",
              "      <th>tidbits</th>\n",
              "      <th>toilet cleaner</th>\n",
              "      <th>tropical fruit</th>\n",
              "      <th>turkey</th>\n",
              "      <th>vinegar</th>\n",
              "      <th>waffles</th>\n",
              "      <th>whipped/sour cream</th>\n",
              "      <th>whisky</th>\n",
              "      <th>white bread</th>\n",
              "      <th>white wine</th>\n",
              "      <th>whole milk</th>\n",
              "      <th>yogurt</th>\n",
              "      <th>zwieback</th>\n",
              "    </tr>\n",
              "  </thead>\n",
              "  <tbody>\n",
              "    <tr>\n",
              "      <th>0</th>\n",
              "      <td>False</td>\n",
              "      <td>False</td>\n",
              "      <td>False</td>\n",
              "      <td>False</td>\n",
              "      <td>False</td>\n",
              "      <td>False</td>\n",
              "      <td>False</td>\n",
              "      <td>False</td>\n",
              "      <td>False</td>\n",
              "      <td>False</td>\n",
              "      <td>False</td>\n",
              "      <td>False</td>\n",
              "      <td>False</td>\n",
              "      <td>False</td>\n",
              "      <td>False</td>\n",
              "      <td>False</td>\n",
              "      <td>False</td>\n",
              "      <td>False</td>\n",
              "      <td>False</td>\n",
              "      <td>False</td>\n",
              "      <td>False</td>\n",
              "      <td>False</td>\n",
              "      <td>False</td>\n",
              "      <td>False</td>\n",
              "      <td>False</td>\n",
              "      <td>False</td>\n",
              "      <td>False</td>\n",
              "      <td>False</td>\n",
              "      <td>False</td>\n",
              "      <td>False</td>\n",
              "      <td>False</td>\n",
              "      <td>False</td>\n",
              "      <td>False</td>\n",
              "      <td>False</td>\n",
              "      <td>False</td>\n",
              "      <td>False</td>\n",
              "      <td>False</td>\n",
              "      <td>False</td>\n",
              "      <td>False</td>\n",
              "      <td>False</td>\n",
              "      <td>...</td>\n",
              "      <td>False</td>\n",
              "      <td>False</td>\n",
              "      <td>False</td>\n",
              "      <td>True</td>\n",
              "      <td>False</td>\n",
              "      <td>True</td>\n",
              "      <td>False</td>\n",
              "      <td>False</td>\n",
              "      <td>False</td>\n",
              "      <td>False</td>\n",
              "      <td>False</td>\n",
              "      <td>False</td>\n",
              "      <td>False</td>\n",
              "      <td>False</td>\n",
              "      <td>False</td>\n",
              "      <td>False</td>\n",
              "      <td>False</td>\n",
              "      <td>False</td>\n",
              "      <td>False</td>\n",
              "      <td>False</td>\n",
              "      <td>False</td>\n",
              "      <td>False</td>\n",
              "      <td>False</td>\n",
              "      <td>False</td>\n",
              "      <td>False</td>\n",
              "      <td>False</td>\n",
              "      <td>False</td>\n",
              "      <td>False</td>\n",
              "      <td>False</td>\n",
              "      <td>False</td>\n",
              "      <td>False</td>\n",
              "      <td>False</td>\n",
              "      <td>False</td>\n",
              "      <td>False</td>\n",
              "      <td>False</td>\n",
              "      <td>False</td>\n",
              "      <td>False</td>\n",
              "      <td>True</td>\n",
              "      <td>True</td>\n",
              "      <td>False</td>\n",
              "    </tr>\n",
              "    <tr>\n",
              "      <th>1</th>\n",
              "      <td>False</td>\n",
              "      <td>False</td>\n",
              "      <td>False</td>\n",
              "      <td>False</td>\n",
              "      <td>False</td>\n",
              "      <td>False</td>\n",
              "      <td>False</td>\n",
              "      <td>False</td>\n",
              "      <td>False</td>\n",
              "      <td>False</td>\n",
              "      <td>False</td>\n",
              "      <td>False</td>\n",
              "      <td>False</td>\n",
              "      <td>False</td>\n",
              "      <td>False</td>\n",
              "      <td>False</td>\n",
              "      <td>False</td>\n",
              "      <td>False</td>\n",
              "      <td>False</td>\n",
              "      <td>False</td>\n",
              "      <td>False</td>\n",
              "      <td>False</td>\n",
              "      <td>False</td>\n",
              "      <td>False</td>\n",
              "      <td>False</td>\n",
              "      <td>False</td>\n",
              "      <td>False</td>\n",
              "      <td>False</td>\n",
              "      <td>False</td>\n",
              "      <td>False</td>\n",
              "      <td>False</td>\n",
              "      <td>False</td>\n",
              "      <td>False</td>\n",
              "      <td>False</td>\n",
              "      <td>False</td>\n",
              "      <td>False</td>\n",
              "      <td>False</td>\n",
              "      <td>False</td>\n",
              "      <td>False</td>\n",
              "      <td>False</td>\n",
              "      <td>...</td>\n",
              "      <td>False</td>\n",
              "      <td>True</td>\n",
              "      <td>False</td>\n",
              "      <td>False</td>\n",
              "      <td>False</td>\n",
              "      <td>False</td>\n",
              "      <td>False</td>\n",
              "      <td>False</td>\n",
              "      <td>False</td>\n",
              "      <td>False</td>\n",
              "      <td>False</td>\n",
              "      <td>False</td>\n",
              "      <td>False</td>\n",
              "      <td>False</td>\n",
              "      <td>False</td>\n",
              "      <td>False</td>\n",
              "      <td>False</td>\n",
              "      <td>False</td>\n",
              "      <td>False</td>\n",
              "      <td>False</td>\n",
              "      <td>False</td>\n",
              "      <td>False</td>\n",
              "      <td>False</td>\n",
              "      <td>False</td>\n",
              "      <td>False</td>\n",
              "      <td>False</td>\n",
              "      <td>False</td>\n",
              "      <td>False</td>\n",
              "      <td>False</td>\n",
              "      <td>False</td>\n",
              "      <td>False</td>\n",
              "      <td>False</td>\n",
              "      <td>False</td>\n",
              "      <td>False</td>\n",
              "      <td>False</td>\n",
              "      <td>False</td>\n",
              "      <td>False</td>\n",
              "      <td>True</td>\n",
              "      <td>False</td>\n",
              "      <td>False</td>\n",
              "    </tr>\n",
              "    <tr>\n",
              "      <th>2</th>\n",
              "      <td>False</td>\n",
              "      <td>False</td>\n",
              "      <td>False</td>\n",
              "      <td>False</td>\n",
              "      <td>False</td>\n",
              "      <td>False</td>\n",
              "      <td>False</td>\n",
              "      <td>False</td>\n",
              "      <td>False</td>\n",
              "      <td>False</td>\n",
              "      <td>False</td>\n",
              "      <td>False</td>\n",
              "      <td>False</td>\n",
              "      <td>False</td>\n",
              "      <td>False</td>\n",
              "      <td>False</td>\n",
              "      <td>False</td>\n",
              "      <td>False</td>\n",
              "      <td>False</td>\n",
              "      <td>False</td>\n",
              "      <td>True</td>\n",
              "      <td>False</td>\n",
              "      <td>False</td>\n",
              "      <td>False</td>\n",
              "      <td>False</td>\n",
              "      <td>False</td>\n",
              "      <td>False</td>\n",
              "      <td>False</td>\n",
              "      <td>False</td>\n",
              "      <td>False</td>\n",
              "      <td>False</td>\n",
              "      <td>False</td>\n",
              "      <td>False</td>\n",
              "      <td>False</td>\n",
              "      <td>False</td>\n",
              "      <td>False</td>\n",
              "      <td>False</td>\n",
              "      <td>False</td>\n",
              "      <td>False</td>\n",
              "      <td>False</td>\n",
              "      <td>...</td>\n",
              "      <td>False</td>\n",
              "      <td>False</td>\n",
              "      <td>False</td>\n",
              "      <td>False</td>\n",
              "      <td>False</td>\n",
              "      <td>False</td>\n",
              "      <td>False</td>\n",
              "      <td>False</td>\n",
              "      <td>False</td>\n",
              "      <td>False</td>\n",
              "      <td>False</td>\n",
              "      <td>False</td>\n",
              "      <td>False</td>\n",
              "      <td>False</td>\n",
              "      <td>False</td>\n",
              "      <td>False</td>\n",
              "      <td>False</td>\n",
              "      <td>False</td>\n",
              "      <td>False</td>\n",
              "      <td>False</td>\n",
              "      <td>False</td>\n",
              "      <td>False</td>\n",
              "      <td>False</td>\n",
              "      <td>False</td>\n",
              "      <td>False</td>\n",
              "      <td>False</td>\n",
              "      <td>False</td>\n",
              "      <td>False</td>\n",
              "      <td>False</td>\n",
              "      <td>False</td>\n",
              "      <td>False</td>\n",
              "      <td>False</td>\n",
              "      <td>False</td>\n",
              "      <td>False</td>\n",
              "      <td>False</td>\n",
              "      <td>False</td>\n",
              "      <td>False</td>\n",
              "      <td>False</td>\n",
              "      <td>False</td>\n",
              "      <td>False</td>\n",
              "    </tr>\n",
              "    <tr>\n",
              "      <th>3</th>\n",
              "      <td>False</td>\n",
              "      <td>False</td>\n",
              "      <td>False</td>\n",
              "      <td>False</td>\n",
              "      <td>False</td>\n",
              "      <td>False</td>\n",
              "      <td>False</td>\n",
              "      <td>False</td>\n",
              "      <td>False</td>\n",
              "      <td>False</td>\n",
              "      <td>False</td>\n",
              "      <td>False</td>\n",
              "      <td>False</td>\n",
              "      <td>False</td>\n",
              "      <td>False</td>\n",
              "      <td>False</td>\n",
              "      <td>False</td>\n",
              "      <td>False</td>\n",
              "      <td>False</td>\n",
              "      <td>False</td>\n",
              "      <td>False</td>\n",
              "      <td>False</td>\n",
              "      <td>False</td>\n",
              "      <td>False</td>\n",
              "      <td>False</td>\n",
              "      <td>False</td>\n",
              "      <td>False</td>\n",
              "      <td>False</td>\n",
              "      <td>False</td>\n",
              "      <td>False</td>\n",
              "      <td>False</td>\n",
              "      <td>False</td>\n",
              "      <td>False</td>\n",
              "      <td>False</td>\n",
              "      <td>False</td>\n",
              "      <td>False</td>\n",
              "      <td>False</td>\n",
              "      <td>False</td>\n",
              "      <td>False</td>\n",
              "      <td>False</td>\n",
              "      <td>...</td>\n",
              "      <td>False</td>\n",
              "      <td>False</td>\n",
              "      <td>False</td>\n",
              "      <td>True</td>\n",
              "      <td>False</td>\n",
              "      <td>False</td>\n",
              "      <td>False</td>\n",
              "      <td>False</td>\n",
              "      <td>False</td>\n",
              "      <td>False</td>\n",
              "      <td>False</td>\n",
              "      <td>False</td>\n",
              "      <td>False</td>\n",
              "      <td>False</td>\n",
              "      <td>False</td>\n",
              "      <td>False</td>\n",
              "      <td>False</td>\n",
              "      <td>False</td>\n",
              "      <td>False</td>\n",
              "      <td>False</td>\n",
              "      <td>False</td>\n",
              "      <td>False</td>\n",
              "      <td>False</td>\n",
              "      <td>False</td>\n",
              "      <td>False</td>\n",
              "      <td>False</td>\n",
              "      <td>False</td>\n",
              "      <td>False</td>\n",
              "      <td>False</td>\n",
              "      <td>False</td>\n",
              "      <td>False</td>\n",
              "      <td>False</td>\n",
              "      <td>False</td>\n",
              "      <td>False</td>\n",
              "      <td>False</td>\n",
              "      <td>False</td>\n",
              "      <td>False</td>\n",
              "      <td>False</td>\n",
              "      <td>False</td>\n",
              "      <td>False</td>\n",
              "    </tr>\n",
              "    <tr>\n",
              "      <th>4</th>\n",
              "      <td>False</td>\n",
              "      <td>False</td>\n",
              "      <td>False</td>\n",
              "      <td>False</td>\n",
              "      <td>False</td>\n",
              "      <td>False</td>\n",
              "      <td>False</td>\n",
              "      <td>False</td>\n",
              "      <td>False</td>\n",
              "      <td>False</td>\n",
              "      <td>False</td>\n",
              "      <td>False</td>\n",
              "      <td>False</td>\n",
              "      <td>False</td>\n",
              "      <td>False</td>\n",
              "      <td>False</td>\n",
              "      <td>False</td>\n",
              "      <td>False</td>\n",
              "      <td>False</td>\n",
              "      <td>False</td>\n",
              "      <td>False</td>\n",
              "      <td>False</td>\n",
              "      <td>False</td>\n",
              "      <td>False</td>\n",
              "      <td>False</td>\n",
              "      <td>False</td>\n",
              "      <td>False</td>\n",
              "      <td>False</td>\n",
              "      <td>False</td>\n",
              "      <td>False</td>\n",
              "      <td>False</td>\n",
              "      <td>False</td>\n",
              "      <td>False</td>\n",
              "      <td>False</td>\n",
              "      <td>False</td>\n",
              "      <td>False</td>\n",
              "      <td>False</td>\n",
              "      <td>False</td>\n",
              "      <td>False</td>\n",
              "      <td>False</td>\n",
              "      <td>...</td>\n",
              "      <td>False</td>\n",
              "      <td>False</td>\n",
              "      <td>False</td>\n",
              "      <td>False</td>\n",
              "      <td>False</td>\n",
              "      <td>False</td>\n",
              "      <td>False</td>\n",
              "      <td>False</td>\n",
              "      <td>False</td>\n",
              "      <td>False</td>\n",
              "      <td>False</td>\n",
              "      <td>True</td>\n",
              "      <td>False</td>\n",
              "      <td>False</td>\n",
              "      <td>False</td>\n",
              "      <td>False</td>\n",
              "      <td>False</td>\n",
              "      <td>False</td>\n",
              "      <td>False</td>\n",
              "      <td>False</td>\n",
              "      <td>False</td>\n",
              "      <td>False</td>\n",
              "      <td>False</td>\n",
              "      <td>False</td>\n",
              "      <td>False</td>\n",
              "      <td>False</td>\n",
              "      <td>False</td>\n",
              "      <td>False</td>\n",
              "      <td>False</td>\n",
              "      <td>False</td>\n",
              "      <td>False</td>\n",
              "      <td>False</td>\n",
              "      <td>False</td>\n",
              "      <td>False</td>\n",
              "      <td>False</td>\n",
              "      <td>False</td>\n",
              "      <td>False</td>\n",
              "      <td>False</td>\n",
              "      <td>False</td>\n",
              "      <td>False</td>\n",
              "    </tr>\n",
              "  </tbody>\n",
              "</table>\n",
              "<p>5 rows × 167 columns</p>\n",
              "</div>"
            ],
            "text/plain": [
              "   Instant food products  UHT-milk  ...  yogurt  zwieback\n",
              "0                  False     False  ...    True     False\n",
              "1                  False     False  ...   False     False\n",
              "2                  False     False  ...   False     False\n",
              "3                  False     False  ...   False     False\n",
              "4                  False     False  ...   False     False\n",
              "\n",
              "[5 rows x 167 columns]"
            ]
          },
          "metadata": {
            "tags": []
          },
          "execution_count": 23
        }
      ]
    },
    {
      "cell_type": "code",
      "metadata": {
        "colab": {
          "base_uri": "https://localhost:8080/",
          "height": 419
        },
        "id": "CQa3ptL0dp5S",
        "outputId": "42a93a8b-57dd-407b-fe50-7c4f2099424d"
      },
      "source": [
        "# Run apriori, get items and itemsets with at least 1% support (there's quite a few unique items)\n",
        "freq_items = apriori(encoded_transactions, min_support=0.001, use_colnames=True)\n",
        "freq_items"
      ],
      "execution_count": 40,
      "outputs": [
        {
          "output_type": "execute_result",
          "data": {
            "text/html": [
              "<div>\n",
              "<style scoped>\n",
              "    .dataframe tbody tr th:only-of-type {\n",
              "        vertical-align: middle;\n",
              "    }\n",
              "\n",
              "    .dataframe tbody tr th {\n",
              "        vertical-align: top;\n",
              "    }\n",
              "\n",
              "    .dataframe thead th {\n",
              "        text-align: right;\n",
              "    }\n",
              "</style>\n",
              "<table border=\"1\" class=\"dataframe\">\n",
              "  <thead>\n",
              "    <tr style=\"text-align: right;\">\n",
              "      <th></th>\n",
              "      <th>support</th>\n",
              "      <th>itemsets</th>\n",
              "    </tr>\n",
              "  </thead>\n",
              "  <tbody>\n",
              "    <tr>\n",
              "      <th>0</th>\n",
              "      <td>0.004010</td>\n",
              "      <td>(Instant food products)</td>\n",
              "    </tr>\n",
              "    <tr>\n",
              "      <th>1</th>\n",
              "      <td>0.021386</td>\n",
              "      <td>(UHT-milk)</td>\n",
              "    </tr>\n",
              "    <tr>\n",
              "      <th>2</th>\n",
              "      <td>0.001470</td>\n",
              "      <td>(abrasive cleaner)</td>\n",
              "    </tr>\n",
              "    <tr>\n",
              "      <th>3</th>\n",
              "      <td>0.001938</td>\n",
              "      <td>(artif. sweetener)</td>\n",
              "    </tr>\n",
              "    <tr>\n",
              "      <th>4</th>\n",
              "      <td>0.008087</td>\n",
              "      <td>(baking powder)</td>\n",
              "    </tr>\n",
              "    <tr>\n",
              "      <th>...</th>\n",
              "      <td>...</td>\n",
              "      <td>...</td>\n",
              "    </tr>\n",
              "    <tr>\n",
              "      <th>745</th>\n",
              "      <td>0.001136</td>\n",
              "      <td>(sausage, whole milk, rolls/buns)</td>\n",
              "    </tr>\n",
              "    <tr>\n",
              "      <th>746</th>\n",
              "      <td>0.001002</td>\n",
              "      <td>(soda, whole milk, rolls/buns)</td>\n",
              "    </tr>\n",
              "    <tr>\n",
              "      <th>747</th>\n",
              "      <td>0.001337</td>\n",
              "      <td>(whole milk, yogurt, rolls/buns)</td>\n",
              "    </tr>\n",
              "    <tr>\n",
              "      <th>748</th>\n",
              "      <td>0.001069</td>\n",
              "      <td>(sausage, whole milk, soda)</td>\n",
              "    </tr>\n",
              "    <tr>\n",
              "      <th>749</th>\n",
              "      <td>0.001470</td>\n",
              "      <td>(sausage, whole milk, yogurt)</td>\n",
              "    </tr>\n",
              "  </tbody>\n",
              "</table>\n",
              "<p>750 rows × 2 columns</p>\n",
              "</div>"
            ],
            "text/plain": [
              "      support                           itemsets\n",
              "0    0.004010            (Instant food products)\n",
              "1    0.021386                         (UHT-milk)\n",
              "2    0.001470                 (abrasive cleaner)\n",
              "3    0.001938                 (artif. sweetener)\n",
              "4    0.008087                    (baking powder)\n",
              "..        ...                                ...\n",
              "745  0.001136  (sausage, whole milk, rolls/buns)\n",
              "746  0.001002     (soda, whole milk, rolls/buns)\n",
              "747  0.001337   (whole milk, yogurt, rolls/buns)\n",
              "748  0.001069        (sausage, whole milk, soda)\n",
              "749  0.001470      (sausage, whole milk, yogurt)\n",
              "\n",
              "[750 rows x 2 columns]"
            ]
          },
          "metadata": {
            "tags": []
          },
          "execution_count": 40
        }
      ]
    },
    {
      "cell_type": "code",
      "metadata": {
        "id": "XU-gLszzgSUY"
      },
      "source": [
        "# Now, get some association rules from these frequent items and itemsets\n",
        "rules = association_rules(freq_items, metric=\"confidence\", min_threshold=0.001)"
      ],
      "execution_count": 52,
      "outputs": []
    },
    {
      "cell_type": "code",
      "metadata": {
        "colab": {
          "base_uri": "https://localhost:8080/",
          "height": 359
        },
        "id": "m2MhAtB0e5M0",
        "outputId": "c04a3019-c0a3-4005-d971-9a5fcd423862"
      },
      "source": [
        "rules.head(10)"
      ],
      "execution_count": 53,
      "outputs": [
        {
          "output_type": "execute_result",
          "data": {
            "text/html": [
              "<div>\n",
              "<style scoped>\n",
              "    .dataframe tbody tr th:only-of-type {\n",
              "        vertical-align: middle;\n",
              "    }\n",
              "\n",
              "    .dataframe tbody tr th {\n",
              "        vertical-align: top;\n",
              "    }\n",
              "\n",
              "    .dataframe thead th {\n",
              "        text-align: right;\n",
              "    }\n",
              "</style>\n",
              "<table border=\"1\" class=\"dataframe\">\n",
              "  <thead>\n",
              "    <tr style=\"text-align: right;\">\n",
              "      <th></th>\n",
              "      <th>antecedents</th>\n",
              "      <th>consequents</th>\n",
              "      <th>antecedent support</th>\n",
              "      <th>consequent support</th>\n",
              "      <th>support</th>\n",
              "      <th>confidence</th>\n",
              "      <th>lift</th>\n",
              "      <th>leverage</th>\n",
              "      <th>conviction</th>\n",
              "    </tr>\n",
              "  </thead>\n",
              "  <tbody>\n",
              "    <tr>\n",
              "      <th>0</th>\n",
              "      <td>(bottled water)</td>\n",
              "      <td>(UHT-milk)</td>\n",
              "      <td>0.060683</td>\n",
              "      <td>0.021386</td>\n",
              "      <td>0.001069</td>\n",
              "      <td>0.017621</td>\n",
              "      <td>0.823954</td>\n",
              "      <td>-0.000228</td>\n",
              "      <td>0.996168</td>\n",
              "    </tr>\n",
              "    <tr>\n",
              "      <th>1</th>\n",
              "      <td>(UHT-milk)</td>\n",
              "      <td>(bottled water)</td>\n",
              "      <td>0.021386</td>\n",
              "      <td>0.060683</td>\n",
              "      <td>0.001069</td>\n",
              "      <td>0.050000</td>\n",
              "      <td>0.823954</td>\n",
              "      <td>-0.000228</td>\n",
              "      <td>0.988755</td>\n",
              "    </tr>\n",
              "    <tr>\n",
              "      <th>2</th>\n",
              "      <td>(other vegetables)</td>\n",
              "      <td>(UHT-milk)</td>\n",
              "      <td>0.122101</td>\n",
              "      <td>0.021386</td>\n",
              "      <td>0.002139</td>\n",
              "      <td>0.017515</td>\n",
              "      <td>0.818993</td>\n",
              "      <td>-0.000473</td>\n",
              "      <td>0.996060</td>\n",
              "    </tr>\n",
              "    <tr>\n",
              "      <th>3</th>\n",
              "      <td>(UHT-milk)</td>\n",
              "      <td>(other vegetables)</td>\n",
              "      <td>0.021386</td>\n",
              "      <td>0.122101</td>\n",
              "      <td>0.002139</td>\n",
              "      <td>0.100000</td>\n",
              "      <td>0.818993</td>\n",
              "      <td>-0.000473</td>\n",
              "      <td>0.975443</td>\n",
              "    </tr>\n",
              "    <tr>\n",
              "      <th>4</th>\n",
              "      <td>(rolls/buns)</td>\n",
              "      <td>(UHT-milk)</td>\n",
              "      <td>0.110005</td>\n",
              "      <td>0.021386</td>\n",
              "      <td>0.001804</td>\n",
              "      <td>0.016403</td>\n",
              "      <td>0.767013</td>\n",
              "      <td>-0.000548</td>\n",
              "      <td>0.994934</td>\n",
              "    </tr>\n",
              "    <tr>\n",
              "      <th>5</th>\n",
              "      <td>(UHT-milk)</td>\n",
              "      <td>(rolls/buns)</td>\n",
              "      <td>0.021386</td>\n",
              "      <td>0.110005</td>\n",
              "      <td>0.001804</td>\n",
              "      <td>0.084375</td>\n",
              "      <td>0.767013</td>\n",
              "      <td>-0.000548</td>\n",
              "      <td>0.972009</td>\n",
              "    </tr>\n",
              "    <tr>\n",
              "      <th>6</th>\n",
              "      <td>(root vegetables)</td>\n",
              "      <td>(UHT-milk)</td>\n",
              "      <td>0.069572</td>\n",
              "      <td>0.021386</td>\n",
              "      <td>0.001002</td>\n",
              "      <td>0.014409</td>\n",
              "      <td>0.673766</td>\n",
              "      <td>-0.000485</td>\n",
              "      <td>0.992921</td>\n",
              "    </tr>\n",
              "    <tr>\n",
              "      <th>7</th>\n",
              "      <td>(UHT-milk)</td>\n",
              "      <td>(root vegetables)</td>\n",
              "      <td>0.021386</td>\n",
              "      <td>0.069572</td>\n",
              "      <td>0.001002</td>\n",
              "      <td>0.046875</td>\n",
              "      <td>0.673766</td>\n",
              "      <td>-0.000485</td>\n",
              "      <td>0.976187</td>\n",
              "    </tr>\n",
              "    <tr>\n",
              "      <th>8</th>\n",
              "      <td>(sausage)</td>\n",
              "      <td>(UHT-milk)</td>\n",
              "      <td>0.060349</td>\n",
              "      <td>0.021386</td>\n",
              "      <td>0.001136</td>\n",
              "      <td>0.018826</td>\n",
              "      <td>0.880298</td>\n",
              "      <td>-0.000154</td>\n",
              "      <td>0.997391</td>\n",
              "    </tr>\n",
              "    <tr>\n",
              "      <th>9</th>\n",
              "      <td>(UHT-milk)</td>\n",
              "      <td>(sausage)</td>\n",
              "      <td>0.021386</td>\n",
              "      <td>0.060349</td>\n",
              "      <td>0.001136</td>\n",
              "      <td>0.053125</td>\n",
              "      <td>0.880298</td>\n",
              "      <td>-0.000154</td>\n",
              "      <td>0.992371</td>\n",
              "    </tr>\n",
              "  </tbody>\n",
              "</table>\n",
              "</div>"
            ],
            "text/plain": [
              "          antecedents         consequents  ...  leverage  conviction\n",
              "0     (bottled water)          (UHT-milk)  ... -0.000228    0.996168\n",
              "1          (UHT-milk)     (bottled water)  ... -0.000228    0.988755\n",
              "2  (other vegetables)          (UHT-milk)  ... -0.000473    0.996060\n",
              "3          (UHT-milk)  (other vegetables)  ... -0.000473    0.975443\n",
              "4        (rolls/buns)          (UHT-milk)  ... -0.000548    0.994934\n",
              "5          (UHT-milk)        (rolls/buns)  ... -0.000548    0.972009\n",
              "6   (root vegetables)          (UHT-milk)  ... -0.000485    0.992921\n",
              "7          (UHT-milk)   (root vegetables)  ... -0.000485    0.976187\n",
              "8           (sausage)          (UHT-milk)  ... -0.000154    0.997391\n",
              "9          (UHT-milk)           (sausage)  ... -0.000154    0.992371\n",
              "\n",
              "[10 rows x 9 columns]"
            ]
          },
          "metadata": {
            "tags": []
          },
          "execution_count": 53
        }
      ]
    },
    {
      "cell_type": "code",
      "metadata": {
        "colab": {
          "base_uri": "https://localhost:8080/",
          "height": 359
        },
        "id": "swAdEFiDe664",
        "outputId": "d3c5c446-92ce-43bc-e35b-4ac3f442929f"
      },
      "source": [
        "rules.tail(10)"
      ],
      "execution_count": 54,
      "outputs": [
        {
          "output_type": "execute_result",
          "data": {
            "text/html": [
              "<div>\n",
              "<style scoped>\n",
              "    .dataframe tbody tr th:only-of-type {\n",
              "        vertical-align: middle;\n",
              "    }\n",
              "\n",
              "    .dataframe tbody tr th {\n",
              "        vertical-align: top;\n",
              "    }\n",
              "\n",
              "    .dataframe thead th {\n",
              "        text-align: right;\n",
              "    }\n",
              "</style>\n",
              "<table border=\"1\" class=\"dataframe\">\n",
              "  <thead>\n",
              "    <tr style=\"text-align: right;\">\n",
              "      <th></th>\n",
              "      <th>antecedents</th>\n",
              "      <th>consequents</th>\n",
              "      <th>antecedent support</th>\n",
              "      <th>consequent support</th>\n",
              "      <th>support</th>\n",
              "      <th>confidence</th>\n",
              "      <th>lift</th>\n",
              "      <th>leverage</th>\n",
              "      <th>conviction</th>\n",
              "    </tr>\n",
              "  </thead>\n",
              "  <tbody>\n",
              "    <tr>\n",
              "      <th>1228</th>\n",
              "      <td>(whole milk, soda)</td>\n",
              "      <td>(sausage)</td>\n",
              "      <td>0.011629</td>\n",
              "      <td>0.060349</td>\n",
              "      <td>0.001069</td>\n",
              "      <td>0.091954</td>\n",
              "      <td>1.523708</td>\n",
              "      <td>0.000368</td>\n",
              "      <td>1.034806</td>\n",
              "    </tr>\n",
              "    <tr>\n",
              "      <th>1229</th>\n",
              "      <td>(sausage)</td>\n",
              "      <td>(whole milk, soda)</td>\n",
              "      <td>0.060349</td>\n",
              "      <td>0.011629</td>\n",
              "      <td>0.001069</td>\n",
              "      <td>0.017719</td>\n",
              "      <td>1.523708</td>\n",
              "      <td>0.000368</td>\n",
              "      <td>1.006200</td>\n",
              "    </tr>\n",
              "    <tr>\n",
              "      <th>1230</th>\n",
              "      <td>(whole milk)</td>\n",
              "      <td>(sausage, soda)</td>\n",
              "      <td>0.157923</td>\n",
              "      <td>0.005948</td>\n",
              "      <td>0.001069</td>\n",
              "      <td>0.006771</td>\n",
              "      <td>1.138374</td>\n",
              "      <td>0.000130</td>\n",
              "      <td>1.000829</td>\n",
              "    </tr>\n",
              "    <tr>\n",
              "      <th>1231</th>\n",
              "      <td>(soda)</td>\n",
              "      <td>(sausage, whole milk)</td>\n",
              "      <td>0.097106</td>\n",
              "      <td>0.008955</td>\n",
              "      <td>0.001069</td>\n",
              "      <td>0.011012</td>\n",
              "      <td>1.229612</td>\n",
              "      <td>0.000200</td>\n",
              "      <td>1.002079</td>\n",
              "    </tr>\n",
              "    <tr>\n",
              "      <th>1232</th>\n",
              "      <td>(sausage, whole milk)</td>\n",
              "      <td>(yogurt)</td>\n",
              "      <td>0.008955</td>\n",
              "      <td>0.085879</td>\n",
              "      <td>0.001470</td>\n",
              "      <td>0.164179</td>\n",
              "      <td>1.911760</td>\n",
              "      <td>0.000701</td>\n",
              "      <td>1.093681</td>\n",
              "    </tr>\n",
              "    <tr>\n",
              "      <th>1233</th>\n",
              "      <td>(sausage, yogurt)</td>\n",
              "      <td>(whole milk)</td>\n",
              "      <td>0.005748</td>\n",
              "      <td>0.157923</td>\n",
              "      <td>0.001470</td>\n",
              "      <td>0.255814</td>\n",
              "      <td>1.619866</td>\n",
              "      <td>0.000563</td>\n",
              "      <td>1.131541</td>\n",
              "    </tr>\n",
              "    <tr>\n",
              "      <th>1234</th>\n",
              "      <td>(whole milk, yogurt)</td>\n",
              "      <td>(sausage)</td>\n",
              "      <td>0.011161</td>\n",
              "      <td>0.060349</td>\n",
              "      <td>0.001470</td>\n",
              "      <td>0.131737</td>\n",
              "      <td>2.182917</td>\n",
              "      <td>0.000797</td>\n",
              "      <td>1.082219</td>\n",
              "    </tr>\n",
              "    <tr>\n",
              "      <th>1235</th>\n",
              "      <td>(sausage)</td>\n",
              "      <td>(whole milk, yogurt)</td>\n",
              "      <td>0.060349</td>\n",
              "      <td>0.011161</td>\n",
              "      <td>0.001470</td>\n",
              "      <td>0.024363</td>\n",
              "      <td>2.182917</td>\n",
              "      <td>0.000797</td>\n",
              "      <td>1.013532</td>\n",
              "    </tr>\n",
              "    <tr>\n",
              "      <th>1236</th>\n",
              "      <td>(whole milk)</td>\n",
              "      <td>(sausage, yogurt)</td>\n",
              "      <td>0.157923</td>\n",
              "      <td>0.005748</td>\n",
              "      <td>0.001470</td>\n",
              "      <td>0.009310</td>\n",
              "      <td>1.619866</td>\n",
              "      <td>0.000563</td>\n",
              "      <td>1.003596</td>\n",
              "    </tr>\n",
              "    <tr>\n",
              "      <th>1237</th>\n",
              "      <td>(yogurt)</td>\n",
              "      <td>(sausage, whole milk)</td>\n",
              "      <td>0.085879</td>\n",
              "      <td>0.008955</td>\n",
              "      <td>0.001470</td>\n",
              "      <td>0.017121</td>\n",
              "      <td>1.911760</td>\n",
              "      <td>0.000701</td>\n",
              "      <td>1.008307</td>\n",
              "    </tr>\n",
              "  </tbody>\n",
              "</table>\n",
              "</div>"
            ],
            "text/plain": [
              "                antecedents            consequents  ...  leverage  conviction\n",
              "1228     (whole milk, soda)              (sausage)  ...  0.000368    1.034806\n",
              "1229              (sausage)     (whole milk, soda)  ...  0.000368    1.006200\n",
              "1230           (whole milk)        (sausage, soda)  ...  0.000130    1.000829\n",
              "1231                 (soda)  (sausage, whole milk)  ...  0.000200    1.002079\n",
              "1232  (sausage, whole milk)               (yogurt)  ...  0.000701    1.093681\n",
              "1233      (sausage, yogurt)           (whole milk)  ...  0.000563    1.131541\n",
              "1234   (whole milk, yogurt)              (sausage)  ...  0.000797    1.082219\n",
              "1235              (sausage)   (whole milk, yogurt)  ...  0.000797    1.013532\n",
              "1236           (whole milk)      (sausage, yogurt)  ...  0.000563    1.003596\n",
              "1237               (yogurt)  (sausage, whole milk)  ...  0.000701    1.008307\n",
              "\n",
              "[10 rows x 9 columns]"
            ]
          },
          "metadata": {
            "tags": []
          },
          "execution_count": 54
        }
      ]
    },
    {
      "cell_type": "markdown",
      "metadata": {
        "id": "CVOV1M3DTX4I"
      },
      "source": [
        "\n",
        "---\n",
        "### Analysis\n",
        "\n",
        "Let's look at a couple of these generated rules. \n",
        "\n",
        "\n",
        "Rule 4: $\\{rolls/buns\\} \\rightarrow \\{UHT-milk\\}$\n",
        "* This rule has 1.6% confidence and a lift ratio of 0.77. That means that it is unlikely that someone will buy UHT milk if they have bought rolls/buns, and the lift ratio being below 1 confirms this.\n",
        "\n",
        "Rule 1232: $\\{sausage, whole\\ milk\\} \\rightarrow \\{yogurt\\}$\n",
        "* This rule has 16.4% confidence and a lift ratio of 1.9. That means that it is somewhat likely that someone will buy yogurt if they have bought sausage and whole milk, and the lift ratio being above 1 confirms this.\n",
        "\n",
        "And now something slightly different, rule 1236: $\\{whole\\ milk\\} \\rightarrow \\{sausage, yogurt\\}$\n",
        "* This rule has only 0.93% confidence but a lift ratio of 1.6. Why is confidence so low? Because sausage and yogurt aren't bought together frequently (the consequent support for $\\{sausage\\} \\rightarrow \\{yogurt\\}$ is 0.57%). But, when someone does buy yogurt and sausage together, they are likely to also buy whole milk because the lift ratio is above 1!\n",
        "\n",
        "\n",
        "\n"
      ]
    },
    {
      "cell_type": "markdown",
      "metadata": {
        "id": "G4ezRYncg0X0"
      },
      "source": [
        "## Wrapping Up\n",
        "\n",
        "Now that you've run through an example of how to use the apriori algorithm and generate association rules, try it yourself on a more complicated, real world example!"
      ]
    }
  ]
}