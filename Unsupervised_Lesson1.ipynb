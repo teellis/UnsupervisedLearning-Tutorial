{
  "nbformat": 4,
  "nbformat_minor": 0,
  "metadata": {
    "colab": {
      "name": "Unsupervised-Lesson1.ipynb",
      "provenance": [],
      "collapsed_sections": [],
      "include_colab_link": true
    },
    "kernelspec": {
      "name": "python3",
      "display_name": "Python 3"
    },
    "language_info": {
      "name": "python"
    }
  },
  "cells": [
    {
      "cell_type": "markdown",
      "metadata": {
        "id": "view-in-github",
        "colab_type": "text"
      },
      "source": [
        "<a href=\"https://colab.research.google.com/github/teellis/UnsupervisedLearning-Tutorial/blob/main/Unsupervised_Lesson1.ipynb\" target=\"_parent\"><img src=\"https://colab.research.google.com/assets/colab-badge.svg\" alt=\"Open In Colab\"/></a>"
      ]
    },
    {
      "cell_type": "code",
      "metadata": {
        "id": "GLvwu5KfHYNo"
      },
      "source": [
        "import numpy as np\n",
        "import pandas as pd"
      ],
      "execution_count": 1,
      "outputs": []
    },
    {
      "cell_type": "code",
      "metadata": {
        "colab": {
          "base_uri": "https://localhost:8080/",
          "height": 49
        },
        "id": "DWigRLpsJoPr",
        "outputId": "f7764d42-ec08-4348-c62c-fcb608ab55b5"
      },
      "source": [
        "# Test code to read file directly from github - this will let us load a csv from our repo\n",
        "test = pd.read_csv('https://raw.githubusercontent.com/teellis/UnsupervisedLearning-Tutorial/main/test.csv')\n",
        "test"
      ],
      "execution_count": 4,
      "outputs": [
        {
          "output_type": "execute_result",
          "data": {
            "text/html": [
              "<div>\n",
              "<style scoped>\n",
              "    .dataframe tbody tr th:only-of-type {\n",
              "        vertical-align: middle;\n",
              "    }\n",
              "\n",
              "    .dataframe tbody tr th {\n",
              "        vertical-align: top;\n",
              "    }\n",
              "\n",
              "    .dataframe thead th {\n",
              "        text-align: right;\n",
              "    }\n",
              "</style>\n",
              "<table border=\"1\" class=\"dataframe\">\n",
              "  <thead>\n",
              "    <tr style=\"text-align: right;\">\n",
              "      <th></th>\n",
              "      <th>1</th>\n",
              "      <th>2</th>\n",
              "      <th>3</th>\n",
              "      <th>4</th>\n",
              "      <th>5</th>\n",
              "    </tr>\n",
              "  </thead>\n",
              "  <tbody>\n",
              "  </tbody>\n",
              "</table>\n",
              "</div>"
            ],
            "text/plain": [
              "Empty DataFrame\n",
              "Columns: [1, 2, 3, 4, 5]\n",
              "Index: []"
            ]
          },
          "metadata": {
            "tags": []
          },
          "execution_count": 4
        }
      ]
    },
    {
      "cell_type": "markdown",
      "metadata": {
        "id": "7ZYnpBQdOXRI"
      },
      "source": [
        "# **Lesson 1 - Unsupervised Learning**\n",
        "\n",
        "Intro description"
      ]
    },
    {
      "cell_type": "markdown",
      "metadata": {
        "id": "MZNDjX9NNrQL"
      },
      "source": [
        "### 1. What is Unsupervised Learning?"
      ]
    },
    {
      "cell_type": "code",
      "metadata": {
        "id": "OgWLWqlvNf-k"
      },
      "source": [
        ""
      ],
      "execution_count": null,
      "outputs": []
    },
    {
      "cell_type": "code",
      "metadata": {
        "id": "CD0aKnIDOdvN"
      },
      "source": [
        ""
      ],
      "execution_count": null,
      "outputs": []
    },
    {
      "cell_type": "markdown",
      "metadata": {
        "id": "YVf67hE1PlfJ"
      },
      "source": [
        "---"
      ]
    },
    {
      "cell_type": "markdown",
      "metadata": {
        "id": "LDGntXS4OQxC"
      },
      "source": [
        "### 2. Supervised vs. Unsupervised Learning"
      ]
    },
    {
      "cell_type": "markdown",
      "metadata": {
        "id": "_xunxMmXPUD1"
      },
      "source": [
        "**Supervised**\n",
        "\n",
        "Description\n"
      ]
    },
    {
      "cell_type": "markdown",
      "metadata": {
        "id": "bwSuuXQfPUUi"
      },
      "source": [
        "**Unsupervised**\n",
        "\n",
        "Description"
      ]
    },
    {
      "cell_type": "markdown",
      "metadata": {
        "id": "SgDAzp9-Py4c"
      },
      "source": [
        "---"
      ]
    },
    {
      "cell_type": "markdown",
      "metadata": {
        "id": "VLH1L3lzN-xS"
      },
      "source": [
        "### 3. Types of Unsupervised Learning Problems"
      ]
    },
    {
      "cell_type": "markdown",
      "metadata": {
        "id": "FztxNluvO9Qj"
      },
      "source": [
        "#### 3.1 Clustering"
      ]
    },
    {
      "cell_type": "code",
      "metadata": {
        "id": "v-vG8WobPEaa"
      },
      "source": [
        ""
      ],
      "execution_count": null,
      "outputs": []
    },
    {
      "cell_type": "code",
      "metadata": {
        "id": "_3iv4MyVPEgr"
      },
      "source": [
        ""
      ],
      "execution_count": null,
      "outputs": []
    },
    {
      "cell_type": "markdown",
      "metadata": {
        "id": "kH51NnIMO9cm"
      },
      "source": [
        "#### 3.2 Association"
      ]
    },
    {
      "cell_type": "code",
      "metadata": {
        "id": "8YWehGK3OubH"
      },
      "source": [
        ""
      ],
      "execution_count": null,
      "outputs": []
    },
    {
      "cell_type": "code",
      "metadata": {
        "id": "CFrngZnCOuog"
      },
      "source": [
        ""
      ],
      "execution_count": null,
      "outputs": []
    },
    {
      "cell_type": "markdown",
      "metadata": {
        "id": "evli6ra5P04t"
      },
      "source": [
        "---"
      ]
    },
    {
      "cell_type": "markdown",
      "metadata": {
        "id": "Gw53xkOxN_Ao"
      },
      "source": [
        "### 4. Types of Unsupervised Learning Models"
      ]
    },
    {
      "cell_type": "code",
      "metadata": {
        "id": "1-QWoLP8O6P2"
      },
      "source": [
        ""
      ],
      "execution_count": null,
      "outputs": []
    },
    {
      "cell_type": "code",
      "metadata": {
        "id": "pVjW2KWUO6XC"
      },
      "source": [
        ""
      ],
      "execution_count": null,
      "outputs": []
    },
    {
      "cell_type": "markdown",
      "metadata": {
        "id": "toxhH0V9QEDc"
      },
      "source": [
        "\"Let's investigate this model in the next Lesson! On groceries!\n",
        "Yay. Go here please:\" *link*"
      ]
    }
  ]
}